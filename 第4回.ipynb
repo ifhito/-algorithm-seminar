{
 "cells": [
  {
   "cell_type": "code",
   "execution_count": 153,
   "metadata": {},
   "outputs": [],
   "source": [
    "# linkedList\n",
    "\n",
    "class ListNode:\n",
    "    def __init__(self, val=None, next=None):\n",
    "        self.val = val\n",
    "        self.next = next\n",
    "\n",
    "    def __repr__(self):\n",
    "        return f\"val:{self.val} -> {self.next}\"\n",
    "\n",
    "def data_reader(l:list):\n",
    "    head = ListNode()\n",
    "    node = head\n",
    "    for i in l:\n",
    "        node.next = ListNode(i)\n",
    "        node = node.next\n",
    "    return head\n",
    "\n",
    "def print_linked_list(head):\n",
    "    while head:\n",
    "        print(head.val, end='-> ')\n",
    "        head = head.next\n",
    "    print()\n",
    "    \n",
    "import hashlib\n",
    "import random\n",
    "class Node:\n",
    "    def __init__(self, x, y=None):\n",
    "        self.value = x\n",
    "        self.next = y\n",
    "\n",
    "class SinglyLinkedList:\n",
    "    def __init__(self):\n",
    "        self.top = None\n",
    "    \n",
    "    def generate(self, n, down, top):\n",
    "        for i in range(n):\n",
    "            self.insert(i, random.randrange(down, top))\n",
    "            \n",
    "    def showAll(self):\n",
    "        all_element = []\n",
    "        obj = self.top\n",
    "        while obj:\n",
    "            all_element.append(obj.value)\n",
    "            obj = obj.next\n",
    "        return all_element\n",
    "    def addNode(self, x):\n",
    "        if self.top == None:\n",
    "            self.top = Node(x, self.top)\n",
    "        else:\n",
    "            obj = self.top\n",
    "            while obj.next:\n",
    "                obj = obj.next\n",
    "            obj.next = Node(x)\n",
    "            \n",
    "    def insert(self, n, x):\n",
    "        if n == 0 or not self.top:\n",
    "            self.top = Node(x, self.top)\n",
    "        else:\n",
    "            obj = self.top\n",
    "            while obj.next:\n",
    "                n -= 1\n",
    "                if n == 0:\n",
    "                    break\n",
    "                obj = obj.next\n",
    "            objNew = Node(x, obj.next)\n",
    "            obj.next = objNew\n",
    "            return objNew\n",
    "        \n",
    "    def delete(self, n):\n",
    "        if n==0:\n",
    "            if self.top:\n",
    "                self.top = self.top.next\n",
    "                return True\n",
    "        else:\n",
    "            obj = self.top\n",
    "            while obj.next:\n",
    "                n -= 1\n",
    "                if n == 0:\n",
    "                    obj.next = obj.next.next\n",
    "                    return True\n",
    "                obj = obj.next\n",
    "        return False\n",
    "    \n",
    "    def index(self, x):\n",
    "        n = 0\n",
    "        obj = self.top\n",
    "        while obj:\n",
    "            if obj.value == x:\n",
    "                return n\n",
    "            n += 1\n",
    "            obj = obj.next\n",
    "        return -1"
   ]
  },
  {
   "cell_type": "code",
   "execution_count": 151,
   "metadata": {},
   "outputs": [],
   "source": [
    "# 2.5\n",
    "\n",
    "def addTwoLinkedList(list1, list2):\n",
    "    carry_out = 0\n",
    "    singly_linked_list = SinglyLinkedList()\n",
    "    list1_node = list1.top\n",
    "    list2_node = list2.top\n",
    "    while list1_node != None or list2_node != None:\n",
    "        if list1_node != None and list2_node != None:\n",
    "            add_value = list1_node.value + list2_node.value + carry_out\n",
    "            carry_out = int(add_value/10)\n",
    "            list1_node = list1_node.next\n",
    "            list2_node = list2_node.next\n",
    "        elif list1_node == None:\n",
    "            add_value = list2_node.value + carry_out\n",
    "            carry_out = int(add_value/10)\n",
    "            list2_node = list2_node.next\n",
    "        elif list2_node == None:\n",
    "            add_value = list1_node.value + carry_out\n",
    "            carry_out = int(add_value/10)\n",
    "            list1_node = list1_node.next\n",
    "        print(add_value)\n",
    "        new_node = Node(add_value%10)\n",
    "        if singly_linked_list.top == None:\n",
    "            singly_linked_list.top = new_node\n",
    "            singly_linked_list_node = singly_linked_list.top\n",
    "        else:\n",
    "            singly_linked_list_node.next = new_node\n",
    "            singly_linked_list_node = singly_linked_list_node.next\n",
    "    if carry_out != 0:\n",
    "        new_node = Node(carry_out)\n",
    "        singly_linked_list_node.next = new_node\n",
    "        singly_linked_list_node = singly_linked_list_node.next\n",
    "    return singly_linked_list\n",
    "#     while node2:\n",
    "#         stack_node2.append(node2.value)\n",
    "#         node2 = node2.next\n",
    "#     length1 = len(stack_node1)\n",
    "#     length2 = len(stack_node2)\n",
    "#     number1 = 0\n",
    "#     number2 = 0\n",
    "#     while length1 >= 0:\n",
    "#         num = stack_node1.pop()\n",
    "#         number1 +=  num * (10 ** length1)\n",
    "#         length1 -= 1\n",
    "    \n",
    "#     while length2 >= 0:\n",
    "#         num = stack_node2.pop()\n",
    "#         number2 += num * (10 ** length2)\n",
    "#         length2 -= 1\n",
    "    "
   ]
  },
  {
   "cell_type": "code",
   "execution_count": 114,
   "metadata": {},
   "outputs": [],
   "source": [
    "test_list1 = SinglyLinkedList()\n",
    "test_list1.generate(5, 1, 9)\n",
    "test_list2 = SinglyLinkedList()\n",
    "test_list2.generate(4, 1, 9)"
   ]
  },
  {
   "cell_type": "code",
   "execution_count": 115,
   "metadata": {},
   "outputs": [
    {
     "name": "stdout",
     "output_type": "stream",
     "text": [
      "[1, 2, 3, 5, 1]\n",
      "[2, 4, 7, 6]\n"
     ]
    }
   ],
   "source": [
    "print(test_list1.showAll())\n",
    "print(test_list2.showAll())"
   ]
  },
  {
   "cell_type": "code",
   "execution_count": 116,
   "metadata": {},
   "outputs": [
    {
     "name": "stdout",
     "output_type": "stream",
     "text": [
      "3\n",
      "6\n",
      "10\n",
      "12\n",
      "2\n",
      "[3, 6, 0, 2, 2]\n"
     ]
    }
   ],
   "source": [
    "answer = addTwoLinkedList(test_list1, test_list2)\n",
    "print(answer.showAll())"
   ]
  },
  {
   "cell_type": "code",
   "execution_count": 358,
   "metadata": {},
   "outputs": [],
   "source": [
    "# 2.6\n",
    "def checkPalindrome(linked_list):\n",
    "    pointer1 = linked_list.top\n",
    "    pointer2 = linked_list.top\n",
    "    stack = []\n",
    "    while pointer2 and pointer2.next:\n",
    "        stack.append(pointer1.value)\n",
    "        print(\"num\", pointer1.value)\n",
    "        pointer1 = pointer1.next\n",
    "        pointer2 = pointer2.next.next\n",
    "    if pointer2 != None:\n",
    "        pointer1 = pointer1.next\n",
    "    pointer2 = linked_list.top\n",
    "    print(stack)\n",
    "    while pointer1.next:\n",
    "        pop_num = stack.pop()\n",
    "        print(pop_num, pointer1.value)\n",
    "        if pop_num == pointer1.value:\n",
    "            pointer1 = pointer1.next\n",
    "        else:\n",
    "            return False\n",
    "    \n",
    "    return True"
   ]
  },
  {
   "cell_type": "code",
   "execution_count": 361,
   "metadata": {},
   "outputs": [
    {
     "name": "stdout",
     "output_type": "stream",
     "text": [
      "[2, 4, 5, 4, 2]\n"
     ]
    }
   ],
   "source": [
    "test_list1 = SinglyLinkedList()\n",
    "test_list1.addNode(2)\n",
    "test_list1.addNode(4)\n",
    "test_list1.addNode(5)\n",
    "# test_list1.addNode(5)\n",
    "test_list1.addNode(4)\n",
    "test_list1.addNode(2)\n",
    "print(test_list1.showAll())"
   ]
  },
  {
   "cell_type": "code",
   "execution_count": 362,
   "metadata": {},
   "outputs": [
    {
     "name": "stdout",
     "output_type": "stream",
     "text": [
      "num 2\n",
      "num 4\n",
      "[2, 4]\n",
      "4 4\n"
     ]
    },
    {
     "data": {
      "text/plain": [
       "True"
      ]
     },
     "execution_count": 362,
     "metadata": {},
     "output_type": "execute_result"
    }
   ],
   "source": [
    "checkPalindrome(test_list1)"
   ]
  },
  {
   "cell_type": "code",
   "execution_count": 347,
   "metadata": {},
   "outputs": [],
   "source": [
    "# 2.7\n",
    "def check_same_list(list1, list2):\n",
    "    len_list1 = 0\n",
    "    len_list2 = 0\n",
    "    list1_node = list1.top\n",
    "    list2_node = list2.top\n",
    "    while list1_node:\n",
    "        len_list1 += 1\n",
    "        list1_node = list1_node.next\n",
    "    \n",
    "    while list2_node:\n",
    "        len_list2 += 1\n",
    "        list2_node = list2_node.next\n",
    "    if len_list1 <= len_list2:\n",
    "        list1, list2 = list2, list1\n",
    "        len_list1, len_list2 = len_list2, len_list1\n",
    "    list1_node = list1.top\n",
    "    list2_node = list2.top\n",
    "    n = 0\n",
    "    while list1:\n",
    "        if n == len_list1 - len_list2:\n",
    "            break\n",
    "        else:\n",
    "            list1_node = list1_node.next\n",
    "        n += 1\n",
    "    flag = False\n",
    "    while list1_node:\n",
    "        if list1_node is not list2_node:\n",
    "            if flag == True:\n",
    "                return False\n",
    "            list1_node = list1_node.next\n",
    "            list2_node = list2_node.next\n",
    "            continue\n",
    "        elif list1_node is list2_node:\n",
    "            print('test')\n",
    "            flag = True\n",
    "            list1_node = list1_node.next\n",
    "            list2_node = list2_node.next\n",
    "    if flag == False:\n",
    "        return False\n",
    "    else:\n",
    "        return True"
   ]
  },
  {
   "cell_type": "code",
   "execution_count": 363,
   "metadata": {},
   "outputs": [
    {
     "name": "stdout",
     "output_type": "stream",
     "text": [
      "[2, 4, 5, 5, 4, 2]\n"
     ]
    }
   ],
   "source": [
    "test_list1 = SinglyLinkedList()\n",
    "test_list1.addNode(2)\n",
    "test_list1.addNode(4)\n",
    "test_list1.addNode(5)\n",
    "test_list1.addNode(5)\n",
    "test_list1.addNode(4)\n",
    "test_list1.addNode(2)\n",
    "test_list2 = test_list1\n",
    "print(test_list1.showAll())"
   ]
  },
  {
   "cell_type": "code",
   "execution_count": 364,
   "metadata": {},
   "outputs": [
    {
     "name": "stdout",
     "output_type": "stream",
     "text": [
      "[4, 3, 2, 2, 4, 5, 5, 4, 2]\n"
     ]
    }
   ],
   "source": [
    "test_list1.insert(0, 2)\n",
    "test_list1.insert(0, 3)\n",
    "test_list1.insert(0, 4)\n",
    "print(test_list1.showAll())"
   ]
  },
  {
   "cell_type": "code",
   "execution_count": 365,
   "metadata": {},
   "outputs": [
    {
     "name": "stdout",
     "output_type": "stream",
     "text": [
      "[1, 1, 1, 4, 3, 2, 2, 4, 5, 5, 4, 2]\n"
     ]
    }
   ],
   "source": [
    "test_list2.insert(0, 1)\n",
    "test_list2.insert(0, 1)\n",
    "test_list2.insert(0, 1)\n",
    "print(test_list2.showAll())"
   ]
  },
  {
   "cell_type": "code",
   "execution_count": null,
   "metadata": {},
   "outputs": [],
   "source": []
  },
  {
   "cell_type": "code",
   "execution_count": 351,
   "metadata": {},
   "outputs": [
    {
     "name": "stdout",
     "output_type": "stream",
     "text": [
      "test\n",
      "test\n",
      "test\n",
      "test\n",
      "test\n",
      "test\n",
      "test\n",
      "test\n",
      "test\n",
      "test\n",
      "test\n",
      "test\n"
     ]
    },
    {
     "data": {
      "text/plain": [
       "True"
      ]
     },
     "execution_count": 351,
     "metadata": {},
     "output_type": "execute_result"
    }
   ],
   "source": [
    "check_same_list(test_list1, test_list2)"
   ]
  },
  {
   "cell_type": "code",
   "execution_count": 352,
   "metadata": {},
   "outputs": [],
   "source": [
    "test_list1 = SinglyLinkedList()\n",
    "test_list1.addNode(2)\n",
    "test_list1.addNode(4)\n",
    "test_list1.addNode(5)\n",
    "test_list1.addNode(5)\n",
    "test_list1.addNode(4)\n",
    "test_list1.addNode(2)"
   ]
  },
  {
   "cell_type": "code",
   "execution_count": 353,
   "metadata": {},
   "outputs": [],
   "source": [
    "test_list2 = SinglyLinkedList()\n",
    "test_list2.addNode(2)\n",
    "test_list2.addNode(4)\n",
    "test_list2.addNode(5)\n",
    "test_list2.addNode(5)\n",
    "test_list2.addNode(4)\n",
    "test_list2.addNode(2)"
   ]
  },
  {
   "cell_type": "code",
   "execution_count": 354,
   "metadata": {},
   "outputs": [
    {
     "data": {
      "text/plain": [
       "False"
      ]
     },
     "execution_count": 354,
     "metadata": {},
     "output_type": "execute_result"
    }
   ],
   "source": [
    "check_same_list(test_list1, test_list2)"
   ]
  },
  {
   "cell_type": "code",
   "execution_count": null,
   "metadata": {},
   "outputs": [],
   "source": [
    "# 2.8\n",
    "\n",
    "def loop_check(list1):\n",
    "    pointer1 = pointer2 = list1.top\n",
    "    \n",
    "    while pointer1 and pointer1.next:\n",
    "        pointer1 = pointer1.next.next\n",
    "        pointer2 = pointer2.next\n",
    "        \n",
    "        if pointer1 is pointer2:\n",
    "            break\n",
    "    if pointer1 is None or pointer1.next is None:\n",
    "        return False\n",
    "    \n",
    "    pointer2 = list1.head\n",
    "    \n",
    "    while pointer1 is not pointer2:\n",
    "        pointer1 = pointer1.next\n",
    "        pointer2 = pointer2.next\n",
    "    return pointer1"
   ]
  }
 ],
 "metadata": {
  "kernelspec": {
   "display_name": "Python 3",
   "language": "python",
   "name": "python3"
  },
  "language_info": {
   "codemirror_mode": {
    "name": "ipython",
    "version": 3
   },
   "file_extension": ".py",
   "mimetype": "text/x-python",
   "name": "python",
   "nbconvert_exporter": "python",
   "pygments_lexer": "ipython3",
   "version": "3.7.4"
  }
 },
 "nbformat": 4,
 "nbformat_minor": 2
}
