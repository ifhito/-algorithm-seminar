{
 "cells": [
  {
   "cell_type": "code",
   "execution_count": 119,
   "metadata": {},
   "outputs": [
    {
     "ename": "TypeError",
     "evalue": "'BinaryTree' object is not callable",
     "output_type": "error",
     "traceback": [
      "\u001b[0;31m---------------------------------------------------------------------------\u001b[0m",
      "\u001b[0;31mTypeError\u001b[0m                                 Traceback (most recent call last)",
      "\u001b[0;32m<ipython-input-119-e82598bba31e>\u001b[0m in \u001b[0;36m<module>\u001b[0;34m\u001b[0m\n\u001b[1;32m     72\u001b[0m     \u001b[0mdata\u001b[0m \u001b[0;34m=\u001b[0m \u001b[0;34m[\u001b[0m\u001b[0mrandom\u001b[0m\u001b[0;34m.\u001b[0m\u001b[0mrandint\u001b[0m\u001b[0;34m(\u001b[0m\u001b[0;36m0\u001b[0m\u001b[0;34m,\u001b[0m \u001b[0;36m100\u001b[0m\u001b[0;34m)\u001b[0m \u001b[0;32mfor\u001b[0m \u001b[0mx\u001b[0m \u001b[0;32min\u001b[0m \u001b[0mrange\u001b[0m\u001b[0;34m(\u001b[0m\u001b[0;36m30\u001b[0m\u001b[0;34m)\u001b[0m\u001b[0;34m]\u001b[0m\u001b[0;34m\u001b[0m\u001b[0;34m\u001b[0m\u001b[0m\n\u001b[1;32m     73\u001b[0m     \u001b[0;32mfor\u001b[0m \u001b[0mx\u001b[0m \u001b[0;32min\u001b[0m \u001b[0mdata\u001b[0m\u001b[0;34m:\u001b[0m\u001b[0;34m\u001b[0m\u001b[0;34m\u001b[0m\u001b[0m\n\u001b[0;32m---> 74\u001b[0;31m         \u001b[0mtree\u001b[0m\u001b[0;34m.\u001b[0m\u001b[0minsert\u001b[0m\u001b[0;34m(\u001b[0m\u001b[0mtree\u001b[0m\u001b[0;34m,\u001b[0m \u001b[0mx\u001b[0m\u001b[0;34m)\u001b[0m\u001b[0;34m\u001b[0m\u001b[0;34m\u001b[0m\u001b[0m\n\u001b[0m\u001b[1;32m     75\u001b[0m     \u001b[0;32mfor\u001b[0m \u001b[0mx\u001b[0m \u001b[0;32min\u001b[0m \u001b[0mdata\u001b[0m\u001b[0;34m:\u001b[0m\u001b[0;34m\u001b[0m\u001b[0;34m\u001b[0m\u001b[0m\n\u001b[1;32m     76\u001b[0m         \u001b[0mprint\u001b[0m\u001b[0;34m(\u001b[0m\u001b[0;34m'search'\u001b[0m\u001b[0;34m,\u001b[0m \u001b[0mx\u001b[0m\u001b[0;34m,\u001b[0m \u001b[0mtree\u001b[0m\u001b[0;34m.\u001b[0m\u001b[0msearch\u001b[0m\u001b[0;34m(\u001b[0m\u001b[0mx\u001b[0m\u001b[0;34m)\u001b[0m\u001b[0;34m)\u001b[0m\u001b[0;34m\u001b[0m\u001b[0;34m\u001b[0m\u001b[0m\n",
      "\u001b[0;32m<ipython-input-119-e82598bba31e>\u001b[0m in \u001b[0;36minsert\u001b[0;34m(self, Node, x)\u001b[0m\n\u001b[1;32m     26\u001b[0m         \u001b[0mnode\u001b[0m \u001b[0;34m=\u001b[0m \u001b[0mNode\u001b[0m\u001b[0;34m.\u001b[0m\u001b[0mroot\u001b[0m\u001b[0;34m\u001b[0m\u001b[0;34m\u001b[0m\u001b[0m\n\u001b[1;32m     27\u001b[0m         \u001b[0;32mif\u001b[0m \u001b[0mnode\u001b[0m \u001b[0;32mis\u001b[0m \u001b[0;32mNone\u001b[0m\u001b[0;34m:\u001b[0m\u001b[0;34m\u001b[0m\u001b[0;34m\u001b[0m\u001b[0m\n\u001b[0;32m---> 28\u001b[0;31m             \u001b[0mnode\u001b[0m\u001b[0;34m.\u001b[0m\u001b[0mroot\u001b[0m \u001b[0;34m=\u001b[0m \u001b[0mNode\u001b[0m\u001b[0;34m(\u001b[0m\u001b[0mx\u001b[0m\u001b[0;34m)\u001b[0m\u001b[0;34m\u001b[0m\u001b[0;34m\u001b[0m\u001b[0m\n\u001b[0m\u001b[1;32m     29\u001b[0m             \u001b[0;32mreturn\u001b[0m \u001b[0mNode\u001b[0m\u001b[0;34m(\u001b[0m\u001b[0mx\u001b[0m\u001b[0;34m)\u001b[0m\u001b[0;34m\u001b[0m\u001b[0;34m\u001b[0m\u001b[0m\n\u001b[1;32m     30\u001b[0m         \u001b[0;32melif\u001b[0m \u001b[0mx\u001b[0m \u001b[0;34m==\u001b[0m \u001b[0mnode\u001b[0m\u001b[0;34m.\u001b[0m\u001b[0mdata\u001b[0m\u001b[0;34m:\u001b[0m\u001b[0;34m\u001b[0m\u001b[0;34m\u001b[0m\u001b[0m\n",
      "\u001b[0;31mTypeError\u001b[0m: 'BinaryTree' object is not callable"
     ]
    }
   ],
   "source": [
    "# 二分木\n",
    "class Node:\n",
    "    def __init__(self, x):\n",
    "        self.data  = x\n",
    "        self.left  = None\n",
    "        self.right = None\n",
    "        \n",
    "class BinaryTree:\n",
    "    def __init__(self):\n",
    "        self.root = None\n",
    "\n",
    "    # 探索\n",
    "    def search(self, x):\n",
    "        node = self.root\n",
    "        while node:\n",
    "            if node.data == x:\n",
    "                return True\n",
    "            if x < node.data:\n",
    "                node = node.left\n",
    "            else:\n",
    "                node = node.right\n",
    "        return False\n",
    "\n",
    "    # 挿入\n",
    "    def insert(self, Node, x):\n",
    "        node = Node.root\n",
    "        if node is None:\n",
    "            node.root = Node(x)\n",
    "            return Node(x)\n",
    "        elif x == node.data:\n",
    "            return node\n",
    "        elif x < node.data:\n",
    "            node.left = self.insert(node.left, x)\n",
    "        else:\n",
    "            node.right = self.insert(node.right, x)\n",
    "        return node\n",
    "\n",
    "    # 削除\n",
    "    def delete(self, x):\n",
    "        node = self.root\n",
    "        if node:\n",
    "            if x == node.data:\n",
    "                if node.left is None:\n",
    "                    return node.right\n",
    "                elif node.right is None:\n",
    "                    return node.left\n",
    "                else:\n",
    "                    node.data = search_min(node.right)\n",
    "                    node.right = delete_min(node.right)\n",
    "            elif x < node.data:\n",
    "                node.left = delete(node.left, x)\n",
    "            else:\n",
    "                node.right = delete(node.right, x)\n",
    "        return node\n",
    "\n",
    "\n",
    "\n",
    "    # 表示\n",
    "    def __str__(self):\n",
    "        if self.root is None: return 'BinaryTree()'\n",
    "        buff = 'BinaryTree('\n",
    "        for x in node.traverse(self.root):\n",
    "            buff += '%s, ' % x\n",
    "        buff = buff.rstrip(',  ')\n",
    "        buff += ')'\n",
    "        return buff\n",
    "\n",
    "# テスト\n",
    "if __name__ == '__main__':\n",
    "    import random\n",
    "    tree = BinaryTree()\n",
    "    data = [random.randint(0, 100) for x in range(30)]\n",
    "    for x in data: \n",
    "        tree.insert(tree, x)\n",
    "    for x in data:\n",
    "        print('search', x, tree.search(x))\n",
    "        print('delete', x)\n",
    "        tree.delete(x)\n",
    "        print('search', x, tree.search(x))\n",
    "    print(tree)"
   ]
  },
  {
   "cell_type": "code",
   "execution_count": 121,
   "metadata": {},
   "outputs": [],
   "source": [
    "class Node:\n",
    "\n",
    "    def __init__(self, data):\n",
    "\n",
    "        self.left = None\n",
    "        self.right = None\n",
    "        self.data = data\n",
    "    def __repr__(self):\n",
    "        if (self.left and self.right):\n",
    "            return f'({self.left}<-{self.data}->{self.right})'\n",
    "        elif self.left:\n",
    "            return f'({self.left}<-{self.data})'\n",
    "        elif self.right:\n",
    "            return f'({self.data}->{self.right})'\n",
    "        else:\n",
    "            return f'({self.data})'\n",
    "\n",
    "    def insert(self, data):\n",
    "# Compare the new value with the parent node\n",
    "        if self.data:\n",
    "            if data < self.data:\n",
    "                if self.left is None:\n",
    "                    self.left = Node(data)\n",
    "                else:\n",
    "                    self.left.insert(data)\n",
    "            elif data > self.data:\n",
    "                if self.right is None:\n",
    "                    self.right = Node(data)\n",
    "                else:\n",
    "                    self.right.insert(data)\n",
    "        else:\n",
    "            self.data = data\n",
    "\n",
    "# Print the tree\n",
    "    def PrintTree(self):\n",
    "        if self.left:\n",
    "            self.left.PrintTree()\n",
    "        print( self.data),\n",
    "        if self.right:\n",
    "            self.right.PrintTree()"
   ]
  },
  {
   "cell_type": "code",
   "execution_count": 122,
   "metadata": {},
   "outputs": [
    {
     "name": "stdout",
     "output_type": "stream",
     "text": [
      "(((((-94)<--93)<--90->((-82->(-64))<--59))<--52->(((-51->(-49))<--36)<--21->(((-14)<--12)<--4->(-1))))<-1->(((5)<-7)<-9->((((((17->(28))<-32->(42))<-47)<-53->(64))<-73)<-74)))\n"
     ]
    }
   ],
   "source": [
    "root = Node(1)\n",
    "data = [random.randint(-100, 100) for x in range(30)]\n",
    "for x in data: \n",
    "    root.insert(x)\n",
    "print(root)"
   ]
  },
  {
   "cell_type": "markdown",
   "metadata": {},
   "source": [
    "## 4.8 最初の共通祖先\n",
    "二分木において、2つのノードの上位ノードで最初に共通するものを探すアルゴリズムを設計し、コードを書いてください、ただし、データ構造の中に新たにノードを追加してはいけません(二分木は二分探索木とは限りません)"
   ]
  },
  {
   "cell_type": "code",
   "execution_count": 154,
   "metadata": {},
   "outputs": [],
   "source": [
    "# parentNodeを遡り、nodeが共通するか確かめて、共通したら返す(根から子供を見ていき、両側のノードが二つのノードになっているかどうかを確かめる。幅優先？\n",
    "from collections import deque\n",
    "def CommonAncestor(originalNode, childNode1, childNode2):\n",
    "    queue = deque([])\n",
    "    queue.append(originalNode)\n",
    "    childNode1_flag = False\n",
    "    childNode2_flag = False\n",
    "    root_node = None\n",
    "    print(childNode1, childNode2)\n",
    "    while queue:\n",
    "        originNode = queue.popleft()\n",
    "        if originNode == None:\n",
    "            continue\n",
    "#         if originNode.right == None or originNode.left == None:\n",
    "#             break\n",
    "        if originNode.right == childNode1:\n",
    "            childNode1_flag = True\n",
    "            if childNode1_flag and childNode2_flag:\n",
    "                return root_node\n",
    "            root_node = originNode\n",
    "        elif originNode.left == childNode1:\n",
    "            childNode1_flag = True\n",
    "            if childNode1_flag and childNode2_flag:\n",
    "                return root_node\n",
    "            root_node = originNode\n",
    "        elif originNode.right == childNode2:\n",
    "            childNode2_flag = True\n",
    "            if childNode1_flag and childNode2_flag:\n",
    "                return root_node\n",
    "            root_node = originNode\n",
    "        elif originNode.left == childNode2:\n",
    "            childNode2_flag = True\n",
    "            if childNode1_flag and childNode2_flag:\n",
    "                return root_node\n",
    "            root_node = originNode\n",
    "        print(childNode1_flag, childNode2_flag, root_node)\n",
    "        queue.append(originNode.right)\n",
    "        queue.append(originNode.left)\n",
    "    return None\n",
    "        "
   ]
  },
  {
   "cell_type": "code",
   "execution_count": 155,
   "metadata": {},
   "outputs": [
    {
     "name": "stdout",
     "output_type": "stream",
     "text": [
      "((5)<-7) ((((((17->(28))<-32->(42))<-47)<-53->(64))<-73)<-74)\n",
      "False False None\n",
      "True False (((5)<-7)<-9->((((((17->(28))<-32->(42))<-47)<-53->(64))<-73)<-74))\n",
      "True False (((5)<-7)<-9->((((((17->(28))<-32->(42))<-47)<-53->(64))<-73)<-74))\n",
      "True False (((5)<-7)<-9->((((((17->(28))<-32->(42))<-47)<-53->(64))<-73)<-74))\n",
      "True False (((5)<-7)<-9->((((((17->(28))<-32->(42))<-47)<-53->(64))<-73)<-74))\n",
      "True False (((5)<-7)<-9->((((((17->(28))<-32->(42))<-47)<-53->(64))<-73)<-74))\n",
      "True False (((5)<-7)<-9->((((((17->(28))<-32->(42))<-47)<-53->(64))<-73)<-74))\n",
      "True False (((5)<-7)<-9->((((((17->(28))<-32->(42))<-47)<-53->(64))<-73)<-74))\n",
      "True False (((5)<-7)<-9->((((((17->(28))<-32->(42))<-47)<-53->(64))<-73)<-74))\n",
      "True False (((5)<-7)<-9->((((((17->(28))<-32->(42))<-47)<-53->(64))<-73)<-74))\n",
      "True False (((5)<-7)<-9->((((((17->(28))<-32->(42))<-47)<-53->(64))<-73)<-74))\n",
      "True False (((5)<-7)<-9->((((((17->(28))<-32->(42))<-47)<-53->(64))<-73)<-74))\n",
      "True False (((5)<-7)<-9->((((((17->(28))<-32->(42))<-47)<-53->(64))<-73)<-74))\n",
      "True False (((5)<-7)<-9->((((((17->(28))<-32->(42))<-47)<-53->(64))<-73)<-74))\n",
      "True False (((5)<-7)<-9->((((((17->(28))<-32->(42))<-47)<-53->(64))<-73)<-74))\n",
      "True False (((5)<-7)<-9->((((((17->(28))<-32->(42))<-47)<-53->(64))<-73)<-74))\n",
      "True False (((5)<-7)<-9->((((((17->(28))<-32->(42))<-47)<-53->(64))<-73)<-74))\n",
      "True False (((5)<-7)<-9->((((((17->(28))<-32->(42))<-47)<-53->(64))<-73)<-74))\n",
      "True False (((5)<-7)<-9->((((((17->(28))<-32->(42))<-47)<-53->(64))<-73)<-74))\n",
      "True False (((5)<-7)<-9->((((((17->(28))<-32->(42))<-47)<-53->(64))<-73)<-74))\n",
      "True False (((5)<-7)<-9->((((((17->(28))<-32->(42))<-47)<-53->(64))<-73)<-74))\n",
      "True False (((5)<-7)<-9->((((((17->(28))<-32->(42))<-47)<-53->(64))<-73)<-74))\n",
      "True False (((5)<-7)<-9->((((((17->(28))<-32->(42))<-47)<-53->(64))<-73)<-74))\n",
      "True False (((5)<-7)<-9->((((((17->(28))<-32->(42))<-47)<-53->(64))<-73)<-74))\n",
      "True False (((5)<-7)<-9->((((((17->(28))<-32->(42))<-47)<-53->(64))<-73)<-74))\n",
      "True False (((5)<-7)<-9->((((((17->(28))<-32->(42))<-47)<-53->(64))<-73)<-74))\n",
      "True False (((5)<-7)<-9->((((((17->(28))<-32->(42))<-47)<-53->(64))<-73)<-74))\n",
      "True False (((5)<-7)<-9->((((((17->(28))<-32->(42))<-47)<-53->(64))<-73)<-74))\n",
      "None\n"
     ]
    }
   ],
   "source": [
    "print(CommonAncestor(root, root.right.left, root.right.right))"
   ]
  },
  {
   "cell_type": "markdown",
   "metadata": {},
   "source": [
    "## 4.9 BSTを作る配列\n",
    "配列を左から右へ走査し要素を追加することで作られた二分探索木があります。要素が全て異なる二分探索木が与えられたとき、それを表現することができる全ての配列を表示してください"
   ]
  },
  {
   "cell_type": "code",
   "execution_count": 50,
   "metadata": {},
   "outputs": [],
   "source": [
    "# 一番したの葉それぞれに対して、根を先頭とした配列を作成し、それを親とつなげていく\n",
    "# [1,[2,[4,5]],[3,[6,7]]]\n",
    "def makeListOfBST(node, ans):\n",
    "    if node == None:\n",
    "        return []\n",
    "    \n",
    "    ans.append(answer+[makeListOfBST(node.right, ans) , makeListOfBST(node.left, ans)])\n",
    "    ans.append(answer+[makeListOfBST(node.left, ans) , makeListOfBST(node.right, ans)])\n",
    "    return ans\n"
   ]
  },
  {
   "cell_type": "code",
   "execution_count": 9,
   "metadata": {},
   "outputs": [],
   "source": [
    "class TreeNode:\n",
    "    def __init__(self, val, left=None, right=None):\n",
    "        self.val = val\n",
    "        self.left = left\n",
    "        self.right = right\n",
    "    def __repr__(self):\n",
    "        if (self.left and self.right):\n",
    "            return f'({self.left}<-{self.val}->{self.right})'\n",
    "        elif self.left:\n",
    "            return f'({self.left}<-{self.val})'\n",
    "        elif self.right:\n",
    "            return f'({self.val}->{self.right})'\n",
    "        else:\n",
    "            return f'({self.val})'"
   ]
  },
  {
   "cell_type": "code",
   "execution_count": 10,
   "metadata": {},
   "outputs": [],
   "source": [
    "def makeBinarySearchTree(List):\n",
    "    if len(List) <= 1:\n",
    "#         if len(List) == 0:\n",
    "#             return\n",
    "        return TreeNode(List[0]) if len(List) != 0 else None\n",
    "    else:\n",
    "        off = len(List) // 2\n",
    "        med = List[off] + List[-(off + 1)]\n",
    "        num = med // 2\n",
    "        tNode = TreeNode(num)\n",
    "        tNode.left = makeBinarySearchTree(List[:List.index(num)])\n",
    "        tNode.right = makeBinarySearchTree(List[List.index(num)+1:])\n",
    "        return tNode\n",
    "    "
   ]
  },
  {
   "cell_type": "code",
   "execution_count": 51,
   "metadata": {},
   "outputs": [
    {
     "name": "stdout",
     "output_type": "stream",
     "text": [
      "(((1)<-2->(3))<-4->((5)<-6->(7)))\n",
      "[[7, [], []], [7, [], []], [5, [], []], [5, [], []], [6, [...], [...]], [5, [], []], [5, [], []], [7, [], []], [7, [], []], [6, [...], [...]], [3, [], []], [3, [], []], [1, [], []], [1, [], []], [2, [...], [...]], [1, [], []], [1, [], []], [3, [], []], [3, [], []], [2, [...], [...]], [4, [...], [...]], [3, [], []], [3, [], []], [1, [], []], [1, [], []], [2, [...], [...]], [1, [], []], [1, [], []], [3, [], []], [3, [], []], [2, [...], [...]], [7, [], []], [7, [], []], [5, [], []], [5, [], []], [6, [...], [...]], [5, [], []], [5, [], []], [7, [], []], [7, [], []], [6, [...], [...]], [4, [...], [...]]]\n"
     ]
    }
   ],
   "source": [
    "changeList2 = makeBinarySearchTree([1, 2, 3, 4, 5, 6, 7])\n",
    "print(changeList2)\n",
    "\n",
    "print(makeListOfBST(changeList2, []))"
   ]
  },
  {
   "cell_type": "markdown",
   "metadata": {},
   "source": [
    "## 4.10 部分木チェック\n",
    "T1とT2は非常に大きい二分木で、T1はT2と比べてかなり大きくなっています。このとき、T2がT1の部分木であるかどうかを判定するアルゴリズムを作ってください。\n",
    "T2がT1の部分木であるということは、T1上のあるノードnについて、n以下の部分木がT2と同じであるということです。"
   ]
  },
  {
   "cell_type": "code",
   "execution_count": 142,
   "metadata": {},
   "outputs": [],
   "source": [
    "# pre-orderで上から見ていく、nullの場合も比較することで、pre-orderの読み方では同じだが、構造が違うものを検知できる。\n",
    "def partOfWood(T1Node,T2Node):\n",
    "    queue = deque([])\n",
    "    queue2 = deque([])\n",
    "    queue.append(T1Node)\n",
    "    queue2.append(T2Node)\n",
    "    checkList = []\n",
    "    flag = False\n",
    "    while queue:\n",
    "        originNode = queue.popleft()\n",
    "        if originNode == T2Node and flag == False:\n",
    "            flag = True\n",
    "            t2Node = queue2.popleft()\n",
    "        elif flag == True:\n",
    "            print(t2Node, originNode)\n",
    "            if t2Node != originNode:\n",
    "                flag = False\n",
    "        \n",
    "        if flag == True and t2Node != None:\n",
    "            queue2.append(t2Node.right)\n",
    "            queue2.append(t2Node.left)\n",
    "        if originNode != None:\n",
    "            queue.append(originNode.right)\n",
    "            queue.append(originNode.left)\n",
    "    return flag"
   ]
  },
  {
   "cell_type": "code",
   "execution_count": 143,
   "metadata": {},
   "outputs": [
    {
     "name": "stdout",
     "output_type": "stream",
     "text": [
      "((5)<-7) (((-51->(-49))<--36)<--21->(((-14)<--12)<--4->(-1)))\n"
     ]
    },
    {
     "data": {
      "text/plain": [
       "False"
      ]
     },
     "execution_count": 143,
     "metadata": {},
     "output_type": "execute_result"
    }
   ],
   "source": [
    "rootT2 = root.right.left\n",
    "# print(rootT2)\n",
    "# print(root)\n",
    "partOfWood(root, rootT2)"
   ]
  },
  {
   "cell_type": "markdown",
   "metadata": {},
   "source": [
    "## 4.11 ランダムノード\n",
    "挿入、検索、削除に加え、ランダムなノードを返すgetRandomNode()メソッドを持つ二分木クラスを、ゼロから実装しようとしています。全てのノードはどう確率で選ばれるようにすべきです。getRandomNodeのアルゴリズムについてデザインと実装を行い、他のメソッドをどのように実装するかを説明してください"
   ]
  },
  {
   "cell_type": "code",
   "execution_count": null,
   "metadata": {},
   "outputs": [],
   "source": [
    "# それぞれのノードに番号を持たせて、その番号の長さでrandomで選ぶ(多分ダメ)\n",
    "# "
   ]
  },
  {
   "cell_type": "markdown",
   "metadata": {},
   "source": [
    "## 4.12 合計が等しい経路\n",
    "書くノードが整数値(正の場合も負の場合もあります)を持った二分木が与えられます。このとき、与えられた値と合計値が等しくなるような経路を数えるアルゴリズムを設計してください、経路の始まりと終わりは必ずしも根と葉である必要はありませんが、下る方向への経路(親ノードから子ノードへの移動のみ)でなければなりません。"
   ]
  },
  {
   "cell_type": "code",
   "execution_count": 108,
   "metadata": {},
   "outputs": [],
   "source": [
    "# 配列の中にそれぞれの根を起点とした数を合計していくものを作成する[根0起点の始まり、根1起点の始まり、根2起点、...]それぞれの起点が合計値になっているかを毎回調べて合計をとる\n",
    "def rootOfList(originalNode, sumNum):\n",
    "    answer = []\n",
    "    totall_val = 0\n",
    "    queue = deque([])\n",
    "    queue.append(originalNode)\n",
    "    while queue:\n",
    "        answer.append(0)\n",
    "        originNode = queue.popleft()\n",
    "        if originNode == None:\n",
    "            continue\n",
    "        print(originNode)\n",
    "        for i in range(len(answer)):\n",
    "            answer[i] += originNode.data\n",
    "            if answer[i] == sumNum:\n",
    "                totall_val += 1\n",
    "        queue.append(originNode.right)\n",
    "        queue.append(originNode.left)\n",
    "    return totall_val"
   ]
  },
  {
   "cell_type": "code",
   "execution_count": 118,
   "metadata": {},
   "outputs": [
    {
     "name": "stdout",
     "output_type": "stream",
     "text": [
      "(((-88)<--75->((-51)<--48))<-1->(87))\n",
      "(87)\n",
      "((-88)<--75->((-51)<--48))\n",
      "((-51)<--48)\n",
      "(-88)\n",
      "(-51)\n"
     ]
    },
    {
     "data": {
      "text/plain": [
       "1"
      ]
     },
     "execution_count": 118,
     "metadata": {},
     "output_type": "execute_result"
    }
   ],
   "source": [
    "rootOfList(root, 88)"
   ]
  },
  {
   "cell_type": "code",
   "execution_count": null,
   "metadata": {},
   "outputs": [],
   "source": []
  }
 ],
 "metadata": {
  "kernelspec": {
   "display_name": "Python 3",
   "language": "python",
   "name": "python3"
  },
  "language_info": {
   "codemirror_mode": {
    "name": "ipython",
    "version": 3
   },
   "file_extension": ".py",
   "mimetype": "text/x-python",
   "name": "python",
   "nbconvert_exporter": "python",
   "pygments_lexer": "ipython3",
   "version": "3.7.4"
  }
 },
 "nbformat": 4,
 "nbformat_minor": 2
}
