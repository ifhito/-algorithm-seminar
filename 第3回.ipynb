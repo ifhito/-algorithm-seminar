{
 "cells": [
  {
   "cell_type": "code",
   "execution_count": 3,
   "metadata": {},
   "outputs": [],
   "source": [
    "# SinglyLinkedList(qiita参考)\n",
    "import hashlib\n",
    "import random\n",
    "class Node:\n",
    "    def __init__(self, x, y=None):\n",
    "        self.value = x\n",
    "        self.next = y\n",
    "\n",
    "class SinglyLinkedList:\n",
    "    def __init__(self):\n",
    "        self.top = None\n",
    "    \n",
    "    def generate(self, n, down, top):\n",
    "        for i in range(n):\n",
    "            self.insert(i, random.randrange(down, top))\n",
    "            \n",
    "    def showAll(self):\n",
    "        all_element = []\n",
    "        obj = self.top\n",
    "        while obj:\n",
    "            all_element.append(obj.value)\n",
    "            obj = obj.next\n",
    "        \n",
    "        return all_element\n",
    "    def insert(self, n, x):\n",
    "        if n == 0 or not self.top:\n",
    "            self.top = Node(x, self.top)\n",
    "        else:\n",
    "            obj = self.top\n",
    "            while obj.next:\n",
    "                n -= 1\n",
    "                if n == 0:\n",
    "                    break\n",
    "                obj = obj.next\n",
    "            objNew = Node(x, obj.next)\n",
    "            obj.next = objNew\n",
    "            return objNew\n",
    "        \n",
    "    def delete(self, n):\n",
    "        if n==0:\n",
    "            if self.top:\n",
    "                self.top = self.top.next\n",
    "                return True\n",
    "        else:\n",
    "            obj = self.top\n",
    "            while obj.next:\n",
    "                n -= 1\n",
    "                if n == 0:\n",
    "                    obj.next = obj.next.next\n",
    "                    return True\n",
    "                obj = obj.next\n",
    "        return False\n",
    "    \n",
    "    def index(self, x):\n",
    "        n = 0\n",
    "        obj = self.top\n",
    "        while obj:\n",
    "            if obj.value == x:\n",
    "                return n\n",
    "            n += 1\n",
    "            obj = obj.next\n",
    "        return -1"
   ]
  },
  {
   "cell_type": "code",
   "execution_count": 2,
   "metadata": {},
   "outputs": [],
   "source": [
    "#2.1\n",
    "def DeleteRegularElement(linked_list, size):\n",
    "    obj = linked_list.top\n",
    "    sequence =[False for _ in range(size)]\n",
    "    n = 0\n",
    "    while obj:\n",
    "        if sequence[obj.value] == True:\n",
    "            linked_list.delete(n)\n",
    "            obj = obj.next\n",
    "            continue\n",
    "        sequence[obj.value] = True\n",
    "        n += 1\n",
    "        obj = obj.next\n",
    "        print(n)\n",
    "    return linked_list\n",
    "\n"
   ]
  },
  {
   "cell_type": "code",
   "execution_count": 3,
   "metadata": {},
   "outputs": [
    {
     "name": "stdout",
     "output_type": "stream",
     "text": [
      "[3, 2, 7, 1, 2, 7, 8, 7, 7, 0]\n"
     ]
    }
   ],
   "source": [
    "singly_linked_list = SinglyLinkedList()\n",
    "singly_linked_list.generate(10, 0, 9)\n",
    "print(singly_linked_list.showAll())"
   ]
  },
  {
   "cell_type": "code",
   "execution_count": 4,
   "metadata": {},
   "outputs": [
    {
     "name": "stdout",
     "output_type": "stream",
     "text": [
      "1\n",
      "2\n",
      "3\n",
      "4\n",
      "5\n",
      "6\n"
     ]
    }
   ],
   "source": [
    "after_linked_list = DeleteRegularElement(singly_linked_list, 10)"
   ]
  },
  {
   "cell_type": "code",
   "execution_count": 5,
   "metadata": {},
   "outputs": [
    {
     "data": {
      "text/plain": [
       "[3, 2, 7, 1, 8, 0]"
      ]
     },
     "execution_count": 5,
     "metadata": {},
     "output_type": "execute_result"
    }
   ],
   "source": [
    "after_linked_list.showAll()"
   ]
  },
  {
   "cell_type": "code",
   "execution_count": 6,
   "metadata": {},
   "outputs": [],
   "source": [
    "#2.2\n",
    "\n",
    "def length_of_linked_list(linked_list):\n",
    "    n = 0\n",
    "    obj = linked_list.top\n",
    "    while obj:\n",
    "        n+=1\n",
    "        obj = obj.next\n",
    "    return n\n",
    "\n",
    "def search_to_end(linked_list, k):\n",
    "    n = 0\n",
    "    obj = linked_list.top\n",
    "    length = length_of_linked_list(linked_list)\n",
    "    while obj.next:\n",
    "        if n == length - k - 1:\n",
    "            return obj.next.value\n",
    "        n += 1\n",
    "        obj = obj.next\n",
    "        \n",
    "        "
   ]
  },
  {
   "cell_type": "code",
   "execution_count": 7,
   "metadata": {},
   "outputs": [
    {
     "data": {
      "text/plain": [
       "7"
      ]
     },
     "execution_count": 7,
     "metadata": {},
     "output_type": "execute_result"
    }
   ],
   "source": [
    "search_to_end(singly_linked_list, 4)"
   ]
  },
  {
   "cell_type": "code",
   "execution_count": 36,
   "metadata": {},
   "outputs": [],
   "source": [
    "#2.3\n",
    "\n",
    "\n",
    "def delete_element(linked_list, element):\n",
    "        element.value = element.next.value\n",
    "        element.next = element.next.next"
   ]
  },
  {
   "cell_type": "code",
   "execution_count": 37,
   "metadata": {},
   "outputs": [
    {
     "name": "stdout",
     "output_type": "stream",
     "text": [
      "[2, 6, 7, 3, 2, 3, 7, 8, 7, 3, 8]\n",
      "[2, 6, 7, 2, 3, 7, 8, 7, 3, 8]\n"
     ]
    }
   ],
   "source": [
    "\n",
    "singly_linked_list = SinglyLinkedList()\n",
    "singly_linked_list.generate(10, 0, 9)\n",
    "element = singly_linked_list.insert(3, 3)\n",
    "print(singly_linked_list.showAll())\n",
    "delete_element(singly_linked_list, element)\n",
    "print(singly_linked_list.showAll())"
   ]
  },
  {
   "cell_type": "code",
   "execution_count": 27,
   "metadata": {},
   "outputs": [],
   "source": [
    "#2.4\n",
    "\n",
    "def devide_list(linked_list, devide_num):\n",
    "    #number = linked_list.index(devide_num)\n",
    "    obj = linked_list.top\n",
    "    delete_list = []\n",
    "    n = 0\n",
    "    count = 0\n",
    "    while obj:\n",
    "        print(obj.value, n)\n",
    "        if obj.value < devide_num:\n",
    "            delete_list.append(obj.value)\n",
    "            linked_list.delete(n)\n",
    "            obj = obj.next\n",
    "            continue\n",
    "        elif obj.value == devide_num:\n",
    "            linked_list.delete(n)\n",
    "            count += 1\n",
    "            obj = obj.next\n",
    "            continue\n",
    "        n += 1\n",
    "        obj = obj.next\n",
    "    print(count, delete_list, linked_list.showAll())\n",
    "    while count > 0:\n",
    "        linked_list.insert(0, devide_num)\n",
    "        count -= 1\n",
    "    for i in delete_list:\n",
    "        linked_list.insert(0, i)\n",
    "    return linked_list\n",
    "        \n",
    "\n",
    "def devide_list_dont_use_list(linked_list, devide_num):\n",
    "    #number = linked_list.index(devide_num)\n",
    "    obj = linked_list.top\n",
    "    delete_list = []\n",
    "    n = 0\n",
    "    min_num = 0\n",
    "    count = 0\n",
    "    while obj:\n",
    "        print(obj.value, n)\n",
    "        print(linked_list.showAll())\n",
    "        if obj.value < devide_num:\n",
    "            linked_list.delete(n)\n",
    "            linked_list.insert(0, obj.value)\n",
    "            min_num += 1\n",
    "        elif obj.value == devide_num:\n",
    "            linked_list.delete(n)\n",
    "            linked_list.insert(min_num, obj.value)\n",
    "            count += 1\n",
    "        n += 1\n",
    "        obj = obj.next\n",
    "    return linked_list\n",
    "    '''print(count, delete_list, linked_list.showAll())\n",
    "    while count > 0:\n",
    "        linked_list.insert(0, devide_num)\n",
    "        count -= 1\n",
    "    for i in delete_list:\n",
    "        linked_list.insert(0, i)\n",
    "    return linked_list'''"
   ]
  },
  {
   "cell_type": "code",
   "execution_count": 28,
   "metadata": {},
   "outputs": [
    {
     "name": "stdout",
     "output_type": "stream",
     "text": [
      "test [4, 2, 3, 7, 6, 1, 4, 8, 1, 7]\n",
      "4\n",
      "3\n",
      "6\n",
      "1\n",
      "8\n",
      "1\n",
      "[7, 4, 7, 2, 2, 7, 6, 4, 8, 7]\n"
     ]
    }
   ],
   "source": [
    "singly_linked_list = SinglyLinkedList()\n",
    "singly_linked_list.generate(10, 0, 9)\n",
    "print('test', singly_linked_list.showAll())\n",
    "list_after_devide = devide_list_dont_use_list(singly_linked_list, 4)\n",
    "print(list_after_devide.showAll())"
   ]
  },
  {
   "cell_type": "code",
   "execution_count": null,
   "metadata": {},
   "outputs": [],
   "source": []
  }
 ],
 "metadata": {
  "kernelspec": {
   "display_name": "Python 3",
   "language": "python",
   "name": "python3"
  },
  "language_info": {
   "codemirror_mode": {
    "name": "ipython",
    "version": 3
   },
   "file_extension": ".py",
   "mimetype": "text/x-python",
   "name": "python",
   "nbconvert_exporter": "python",
   "pygments_lexer": "ipython3",
   "version": "3.7.4"
  }
 },
 "nbformat": 4,
 "nbformat_minor": 2
}
