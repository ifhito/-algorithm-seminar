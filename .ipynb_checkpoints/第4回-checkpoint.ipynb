{
 "cells": [
  {
   "cell_type": "code",
   "execution_count": 3,
   "metadata": {},
   "outputs": [],
   "source": [
    "# linkedList\n",
    "\n",
    "class ListNode:\n",
    "    def __init__(self, val=None, next=None):\n",
    "        self.val = val\n",
    "        self.next = next\n",
    "\n",
    "    def __repr__(self):\n",
    "        return f\"val:{self.val} -> {self.next}\"\n",
    "\n",
    "def data_reader(l:list):\n",
    "    head = ListNode()\n",
    "    node = head\n",
    "    for i in l:\n",
    "        node.next = ListNode(i)\n",
    "        node = node.next\n",
    "    return head\n",
    "\n",
    "def print_linked_list(head):\n",
    "    while head:\n",
    "        print(head.val, end='-> ')\n",
    "        head = head.next\n",
    "    print()\n",
    "    \n",
    "import hashlib\n",
    "import random\n",
    "class Node:\n",
    "    def __init__(self, x, y=None):\n",
    "        self.value = x\n",
    "        self.next = y\n",
    "\n",
    "class SinglyLinkedList:\n",
    "    def __init__(self):\n",
    "        self.top = None\n",
    "    \n",
    "    def generate(self, n, down, top):\n",
    "        for i in range(n):\n",
    "            self.insert(i, random.randrange(down, top))\n",
    "            \n",
    "    def showAll(self):\n",
    "        all_element = []\n",
    "        obj = self.top\n",
    "        while obj:\n",
    "            all_element.append(obj.value)\n",
    "            obj = obj.next\n",
    "        return all_element\n",
    "        \n",
    "    def insert(self, n, x):\n",
    "        if n == 0 or not self.top:\n",
    "            self.top = Node(x, self.top)\n",
    "        else:\n",
    "            obj = self.top\n",
    "            while obj.next:\n",
    "                n -= 1\n",
    "                if n == 0:\n",
    "                    break\n",
    "                obj = obj.next\n",
    "            objNew = Node(x, obj.next)\n",
    "            obj.next = objNew\n",
    "            return objNew\n",
    "        \n",
    "    def delete(self, n):\n",
    "        if n==0:\n",
    "            if self.top:\n",
    "                self.top = self.top.next\n",
    "                return True\n",
    "        else:\n",
    "            obj = self.top\n",
    "            while obj.next:\n",
    "                n -= 1\n",
    "                if n == 0:\n",
    "                    obj.next = obj.next.next\n",
    "                    return True\n",
    "                obj = obj.next\n",
    "        return False\n",
    "    \n",
    "    def index(self, x):\n",
    "        n = 0\n",
    "        obj = self.top\n",
    "        while obj:\n",
    "            if obj.value == x:\n",
    "                return n\n",
    "            n += 1\n",
    "            obj = obj.next\n",
    "        return -1"
   ]
  },
  {
   "cell_type": "code",
   "execution_count": 101,
   "metadata": {},
   "outputs": [],
   "source": [
    "# 2.5\n",
    "\n",
    "def addTwoLinkedList(list1, list2):\n",
    "    stack_node1 = []\n",
    "    stack_node2 = []\n",
    "    carry_out = 0\n",
    "    singly_linked_list = SinglyLinkedList()\n",
    "    list1_node = list1.top\n",
    "    list2_node = list2.top\n",
    "    while list1_node != None or list2_node != None:\n",
    "        carry_out = 0\n",
    "        if list1_node != None and list2_node != None:\n",
    "            add_value = list1_node.value + list2_node.value + carry_out\n",
    "            carry_out = int(add_value/10)\n",
    "            list1_node = list1_node.next\n",
    "            list2_node = list2_node.next\n",
    "        elif list1_node == None:\n",
    "            add_value = list2_node.value + carry_out\n",
    "            carry_out = int(add_value/10)\n",
    "            list2_node = list2_node.next\n",
    "        elif list2_node == None:\n",
    "            add_value = list1_node.value + carry_out\n",
    "            carry_out = int(add_value/10)\n",
    "        print(add_value)\n",
    "        new_node = Node(add_value%10)\n",
    "        if singly_linked_list.top == None:\n",
    "            singly_linked_list.top = new_node\n",
    "            singly_linked_list_node = singly_linked_list.top\n",
    "        else:\n",
    "            singly_linked_list_node.next = new_node\n",
    "            singly_linked_list_node = singly_linked_list_node.next\n",
    "    if carry_out != 0:\n",
    "        new_node = Node(carry_out)\n",
    "        singly_linked_list_node.next = new_node\n",
    "        singly_linked_list_node = singly_linked_list_node.next\n",
    "    return singly_linked_list\n",
    "#     while node2:\n",
    "#         stack_node2.append(node2.value)\n",
    "#         node2 = node2.next\n",
    "#     length1 = len(stack_node1)\n",
    "#     length2 = len(stack_node2)\n",
    "#     number1 = 0\n",
    "#     number2 = 0\n",
    "#     while length1 >= 0:\n",
    "#         num = stack_node1.pop()\n",
    "#         number1 +=  num * (10 ** length1)\n",
    "#         length1 -= 1\n",
    "    \n",
    "#     while length2 >= 0:\n",
    "#         num = stack_node2.pop()\n",
    "#         number2 += num * (10 ** length2)\n",
    "#         length2 -= 1\n",
    "    "
   ]
  },
  {
   "cell_type": "code",
   "execution_count": 102,
   "metadata": {},
   "outputs": [],
   "source": [
    "test_list1 = SinglyLinkedList()\n",
    "test_list1.generate(5, 1, 9)\n",
    "test_list2 = SinglyLinkedList()\n",
    "test_list2.generate(4, 1, 9)"
   ]
  },
  {
   "cell_type": "code",
   "execution_count": 103,
   "metadata": {},
   "outputs": [
    {
     "name": "stdout",
     "output_type": "stream",
     "text": [
      "[8, 6, 7, 4, 4]\n",
      "[4, 6, 6, 3]\n"
     ]
    }
   ],
   "source": [
    "print(test_list1.showAll())\n",
    "print(test_list2.showAll())"
   ]
  },
  {
   "cell_type": "code",
   "execution_count": 104,
   "metadata": {},
   "outputs": [
    {
     "name": "stdout",
     "output_type": "stream",
     "text": [
      "12\n",
      "12\n",
      "13\n",
      "7\n",
      "4\n"
     ]
    },
    {
     "ename": "AttributeError",
     "evalue": "'NoneType' object has no attribute 'next'",
     "output_type": "error",
     "traceback": [
      "\u001b[0;31m---------------------------------------------------------------------------\u001b[0m",
      "\u001b[0;31mAttributeError\u001b[0m                            Traceback (most recent call last)",
      "\u001b[0;32m<ipython-input-104-c6df1dc47c8e>\u001b[0m in \u001b[0;36m<module>\u001b[0;34m\u001b[0m\n\u001b[0;32m----> 1\u001b[0;31m \u001b[0manswer\u001b[0m \u001b[0;34m=\u001b[0m \u001b[0maddTwoLinkedList\u001b[0m\u001b[0;34m(\u001b[0m\u001b[0mtest_list1\u001b[0m\u001b[0;34m,\u001b[0m \u001b[0mtest_list2\u001b[0m\u001b[0;34m)\u001b[0m\u001b[0;34m\u001b[0m\u001b[0;34m\u001b[0m\u001b[0m\n\u001b[0m\u001b[1;32m      2\u001b[0m \u001b[0mprint\u001b[0m\u001b[0;34m(\u001b[0m\u001b[0manswer\u001b[0m\u001b[0;34m.\u001b[0m\u001b[0mshowAll\u001b[0m\u001b[0;34m(\u001b[0m\u001b[0;34m)\u001b[0m\u001b[0;34m)\u001b[0m\u001b[0;34m\u001b[0m\u001b[0;34m\u001b[0m\u001b[0m\n",
      "\u001b[0;32m<ipython-input-101-b64d64518491>\u001b[0m in \u001b[0;36maddTwoLinkedList\u001b[0;34m(list1, list2)\u001b[0m\n\u001b[1;32m     28\u001b[0m             \u001b[0msingly_linked_list_node\u001b[0m \u001b[0;34m=\u001b[0m \u001b[0msingly_linked_list_node\u001b[0m\u001b[0;34m.\u001b[0m\u001b[0mnext\u001b[0m\u001b[0;34m\u001b[0m\u001b[0;34m\u001b[0m\u001b[0m\n\u001b[1;32m     29\u001b[0m         \u001b[0mlist1_node\u001b[0m \u001b[0;34m=\u001b[0m \u001b[0mlist1_node\u001b[0m\u001b[0;34m.\u001b[0m\u001b[0mnext\u001b[0m\u001b[0;34m\u001b[0m\u001b[0;34m\u001b[0m\u001b[0m\n\u001b[0;32m---> 30\u001b[0;31m         \u001b[0mlist2_node\u001b[0m \u001b[0;34m=\u001b[0m \u001b[0mlist2_node\u001b[0m\u001b[0;34m.\u001b[0m\u001b[0mnext\u001b[0m\u001b[0;34m\u001b[0m\u001b[0;34m\u001b[0m\u001b[0m\n\u001b[0m\u001b[1;32m     31\u001b[0m     \u001b[0;32mif\u001b[0m \u001b[0mcarry_out\u001b[0m \u001b[0;34m!=\u001b[0m \u001b[0;36m0\u001b[0m\u001b[0;34m:\u001b[0m\u001b[0;34m\u001b[0m\u001b[0;34m\u001b[0m\u001b[0m\n\u001b[1;32m     32\u001b[0m         \u001b[0mnew_node\u001b[0m \u001b[0;34m=\u001b[0m \u001b[0mNode\u001b[0m\u001b[0;34m(\u001b[0m\u001b[0mcarry_out\u001b[0m\u001b[0;34m)\u001b[0m\u001b[0;34m\u001b[0m\u001b[0;34m\u001b[0m\u001b[0m\n",
      "\u001b[0;31mAttributeError\u001b[0m: 'NoneType' object has no attribute 'next'"
     ]
    }
   ],
   "source": [
    "answer = addTwoLinkedList(test_list1, test_list2)\n",
    "print(answer.showAll())"
   ]
  },
  {
   "cell_type": "code",
   "execution_count": null,
   "metadata": {},
   "outputs": [],
   "source": [
    "# 2.6\n"
   ]
  },
  {
   "cell_type": "code",
   "execution_count": null,
   "metadata": {},
   "outputs": [],
   "source": [
    "# 2.7"
   ]
  },
  {
   "cell_type": "code",
   "execution_count": null,
   "metadata": {},
   "outputs": [],
   "source": [
    "# 2.8"
   ]
  }
 ],
 "metadata": {
  "kernelspec": {
   "display_name": "Python 3",
   "language": "python",
   "name": "python3"
  },
  "language_info": {
   "codemirror_mode": {
    "name": "ipython",
    "version": 3
   },
   "file_extension": ".py",
   "mimetype": "text/x-python",
   "name": "python",
   "nbconvert_exporter": "python",
   "pygments_lexer": "ipython3",
   "version": "3.7.4"
  }
 },
 "nbformat": 4,
 "nbformat_minor": 2
}
