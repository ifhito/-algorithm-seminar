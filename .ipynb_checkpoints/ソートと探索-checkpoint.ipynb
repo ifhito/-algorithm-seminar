{
 "cells": [
  {
   "cell_type": "markdown",
   "metadata": {},
   "source": [
    "# ソートされた配列のマージ"
   ]
  },
  {
   "cell_type": "code",
   "execution_count": 6,
   "metadata": {},
   "outputs": [
    {
     "data": {
      "text/plain": [
       "[1, 2, 3, 5, 7, 8, 12, 43, 45]"
      ]
     },
     "execution_count": 6,
     "metadata": {},
     "output_type": "execute_result"
    }
   ],
   "source": [
    "def margeList(listA, listB):\n",
    "    i = 0\n",
    "    j = 0\n",
    "    B = listB.pop(j)\n",
    "    while i < len(listA):\n",
    "        if listA[i] >= B:\n",
    "            listA.insert(i, B)\n",
    "            B = listB.pop(j)\n",
    "            i += 1\n",
    "            continue\n",
    "        i+=1\n",
    "    listA += listB\n",
    "    \n",
    "    return listA\n",
    "\n",
    "margeList([1,3,5,7,12,45], [2,8,43,56])\n",
    "    \n",
    "        "
   ]
  },
  {
   "cell_type": "markdown",
   "metadata": {},
   "source": [
    "# アナグラムのグループ"
   ]
  },
  {
   "cell_type": "code",
   "execution_count": 87,
   "metadata": {},
   "outputs": [],
   "source": [
    "import collections\n",
    "def anagram(str_list):\n",
    "    counter_list = {}\n",
    "    separate_list = []\n",
    "    count = 0\n",
    "    for i in str_list:\n",
    "        c = collections.Counter(i)\n",
    "        c_common = c.most_common()\n",
    "        c = sorted(c_common, key=lambda pair: pair[0], reverse=True)\n",
    "        if str(c) in counter_list:\n",
    "            separate_list[counter_list[str(c)]].append(i)\n",
    "        else:\n",
    "            counter_list[str(c)] = count\n",
    "            separate_list.append([i])\n",
    "            count += 1\n",
    "    return sum(separate_list, [])"
   ]
  },
  {
   "cell_type": "code",
   "execution_count": 88,
   "metadata": {},
   "outputs": [
    {
     "data": {
      "text/plain": [
       "['ara',\n",
       " 'raa',\n",
       " 'rrrl',\n",
       " 'lrrr',\n",
       " 'ccced',\n",
       " 'ccdce',\n",
       " 'flffe',\n",
       " 'fffle',\n",
       " 'eee',\n",
       " 'eee',\n",
       " 'tec']"
      ]
     },
     "execution_count": 88,
     "metadata": {},
     "output_type": "execute_result"
    }
   ],
   "source": [
    "anagram(['ara','rrrl','ccced','flffe','lrrr','fffle','raa','ccdce','eee','tec','eee'])"
   ]
  },
  {
   "cell_type": "markdown",
   "metadata": {},
   "source": [
    "# 回転された配列を見つける"
   ]
  },
  {
   "cell_type": "code",
   "execution_count": 16,
   "metadata": {},
   "outputs": [
    {
     "name": "stdout",
     "output_type": "stream",
     "text": [
      "1 15 14\n"
     ]
    },
    {
     "data": {
      "text/plain": [
       "8"
      ]
     },
     "execution_count": 16,
     "metadata": {},
     "output_type": "execute_result"
    }
   ],
   "source": [
    "def roution(array, serching_num):\n",
    "    low = 0\n",
    "    high = len(array) - 1\n",
    "    \n",
    "    while low <= high:\n",
    "        mid = (low + high)//2\n",
    "        guess_mid = array[mid]\n",
    "        guess_low = array[low]\n",
    "        guess_high = array[high]\n",
    "        if guess_mid == serching_num:\n",
    "            return mid\n",
    "        if guess_low == serching_num:\n",
    "            return low\n",
    "        if guess_high == serching_num:\n",
    "            return high\n",
    "        print(guess_mid, guess_low, guess_high)\n",
    "        if guess_mid < serching_num and guess_low < serching_num:\n",
    "            if guess_high < serching_num:\n",
    "                high = mid - 1\n",
    "            else:\n",
    "                low = mid + 1\n",
    "        elif guess_mid > serching_num and guess_high > serching_num:\n",
    "            if guess_low < serching_num:\n",
    "                low = mid +1\n",
    "            else:\n",
    "                high = mid - 1\n",
    "        elif guess_low > serching_num:\n",
    "            low = mid +1\n",
    "        elif guess_high < serching_num:\n",
    "            high = mid - 1\n",
    "        \n",
    "    return None\n",
    "\n",
    "roution([15,16,19,20,25,1,3,4,5,7,10,14], 5)"
   ]
  },
  {
   "cell_type": "markdown",
   "metadata": {},
   "source": [
    "# ソート済み・サイズが不明の配列における探索"
   ]
  },
  {
   "cell_type": "code",
   "execution_count": 20,
   "metadata": {},
   "outputs": [],
   "source": [
    "\n",
    "def bigSortedList(array,serch_item):\n",
    "    i = 2 \n",
    "    while True:\n",
    "        e = 2 **i\n",
    "        if array[e] == None:\n",
    "            length = e\n",
    "            break\n",
    "        i += 1\n",
    "    \n",
    "    low = 0\n",
    "    high = len(array) - 1\n",
    "    while low <= high:\n",
    "        mid = (low + high)//2\n",
    "        guess = array[mid]\n",
    "        if guess == serch_item:\n",
    "            return mid\n",
    "        if guess > serch_item:\n",
    "            high = mid - 1\n",
    "        else:\n",
    "            low = mid + 1\n",
    "    return None\n",
    "\n",
    "\n",
    "    "
   ]
  },
  {
   "cell_type": "code",
   "execution_count": 22,
   "metadata": {},
   "outputs": [
    {
     "ename": "IndexError",
     "evalue": "list index out of range",
     "output_type": "error",
     "traceback": [
      "\u001b[0;31m---------------------------------------------------------------------------\u001b[0m",
      "\u001b[0;31mIndexError\u001b[0m                                Traceback (most recent call last)",
      "\u001b[0;32m<ipython-input-22-6bf59ac2c457>\u001b[0m in \u001b[0;36m<module>\u001b[0;34m\u001b[0m\n\u001b[1;32m      7\u001b[0m     \u001b[0mi\u001b[0m \u001b[0;34m+=\u001b[0m \u001b[0;36m1\u001b[0m\u001b[0;34m\u001b[0m\u001b[0;34m\u001b[0m\u001b[0m\n\u001b[1;32m      8\u001b[0m \u001b[0;34m\u001b[0m\u001b[0m\n\u001b[0;32m----> 9\u001b[0;31m \u001b[0mbigSortedList\u001b[0m\u001b[0;34m(\u001b[0m\u001b[0msorted\u001b[0m\u001b[0;34m(\u001b[0m\u001b[0mbig_array\u001b[0m\u001b[0;34m)\u001b[0m\u001b[0;34m,\u001b[0m \u001b[0;36m5\u001b[0m\u001b[0;34m)\u001b[0m\u001b[0;34m\u001b[0m\u001b[0;34m\u001b[0m\u001b[0m\n\u001b[0m",
      "\u001b[0;32m<ipython-input-20-04f4e17b2c4f>\u001b[0m in \u001b[0;36mbigSortedList\u001b[0;34m(array, serch_item)\u001b[0m\n\u001b[1;32m      3\u001b[0m     \u001b[0;32mwhile\u001b[0m \u001b[0;32mTrue\u001b[0m\u001b[0;34m:\u001b[0m\u001b[0;34m\u001b[0m\u001b[0;34m\u001b[0m\u001b[0m\n\u001b[1;32m      4\u001b[0m         \u001b[0me\u001b[0m \u001b[0;34m=\u001b[0m \u001b[0;36m2\u001b[0m \u001b[0;34m**\u001b[0m\u001b[0mi\u001b[0m\u001b[0;34m\u001b[0m\u001b[0;34m\u001b[0m\u001b[0m\n\u001b[0;32m----> 5\u001b[0;31m         \u001b[0;32mif\u001b[0m \u001b[0marray\u001b[0m\u001b[0;34m[\u001b[0m\u001b[0me\u001b[0m\u001b[0;34m]\u001b[0m \u001b[0;34m==\u001b[0m \u001b[0;32mNone\u001b[0m\u001b[0;34m:\u001b[0m\u001b[0;34m\u001b[0m\u001b[0;34m\u001b[0m\u001b[0m\n\u001b[0m\u001b[1;32m      6\u001b[0m             \u001b[0mlength\u001b[0m \u001b[0;34m=\u001b[0m \u001b[0me\u001b[0m\u001b[0;34m\u001b[0m\u001b[0;34m\u001b[0m\u001b[0m\n\u001b[1;32m      7\u001b[0m             \u001b[0;32mbreak\u001b[0m\u001b[0;34m\u001b[0m\u001b[0;34m\u001b[0m\u001b[0m\n",
      "\u001b[0;31mIndexError\u001b[0m: list index out of range"
     ]
    }
   ],
   "source": [
    "import random\n",
    "\n",
    "i = 0\n",
    "big_array = []\n",
    "while i < 1024:\n",
    "    if i < 1000:\n",
    "        big_array.append(random.randint(0, 1000))\n",
    "\n",
    "    i += 1\n",
    "\n",
    "bigSortedList(sorted(big_array), 5)"
   ]
  },
  {
   "cell_type": "markdown",
   "metadata": {},
   "source": [
    "# 隙間が多い配列の探索"
   ]
  },
  {
   "cell_type": "code",
   "execution_count": 105,
   "metadata": {},
   "outputs": [
    {
     "data": {
      "text/plain": [
       "2"
      ]
     },
     "execution_count": 105,
     "metadata": {},
     "output_type": "execute_result"
    }
   ],
   "source": [
    "\n",
    "    \n",
    "def ClearTeethList(array, serching_str):\n",
    "    low = 0\n",
    "    high = len(array) - 1\n",
    "    \n",
    "    while low <= high:\n",
    "        mid = (low + high)//2\n",
    "        guess = array[mid]    \n",
    "        if guess == '':\n",
    "            i = 1\n",
    "            while True:\n",
    "                mid_high = mid + 1\n",
    "                mid_low = mid - 1\n",
    "                if array[mid_low] != '':\n",
    "                    if array[mid_low] > serching_str:\n",
    "                        high = mid_low - 1\n",
    "                        break\n",
    "                    else:\n",
    "                        low = mid_high\n",
    "                        break\n",
    "                elif array[mid_high] != '':\n",
    "                    if array[mid_high] > serching_str:\n",
    "                        high = mid_low\n",
    "                        break\n",
    "                    else:\n",
    "                        low = mid_high + 1\n",
    "                        break\n",
    "                elif array[mid_low] == serching_str:\n",
    "                    return mid_low\n",
    "                elif array[mid_high] == serching_str:\n",
    "                    return mid_high\n",
    "                i += 1\n",
    "            continue\n",
    "        if guess == serching_str:\n",
    "            return mid\n",
    "        if guess > serching_str:\n",
    "            high = mid - 1\n",
    "        else:\n",
    "            low = mid + 1\n",
    "    return None\n",
    "\n",
    "ClearTeethList(['at','','ball','','','','','car','','','dad','',''], 'ball')\n",
    "            "
   ]
  },
  {
   "cell_type": "markdown",
   "metadata": {},
   "source": [
    "# 大きなファイルのソート"
   ]
  },
  {
   "cell_type": "code",
   "execution_count": 2,
   "metadata": {},
   "outputs": [],
   "source": [
    "# ファイル区切って別のファイルに格納して、そのファイルをそれぞれ頭から見ていってソートする"
   ]
  },
  {
   "cell_type": "markdown",
   "metadata": {},
   "source": [
    "# 行方不明の整数\n"
   ]
  },
  {
   "cell_type": "code",
   "execution_count": null,
   "metadata": {},
   "outputs": [],
   "source": [
    "# １回目の捜査で最小値と最大値を見つける→その分のビットベクトルを作成し、含まれているものに1を立てる。最終的に含まれていないものがわかる"
   ]
  },
  {
   "cell_type": "markdown",
   "metadata": {},
   "source": [
    "# 重複する数を見つける"
   ]
  },
  {
   "cell_type": "code",
   "execution_count": null,
   "metadata": {},
   "outputs": [],
   "source": [
    "# 4kB=32000bit→それぞれのbitを桁として、桁を数字に当てはめる。今回考える配列は全ての値を持っているので重複がなければ全部1になるはず→つまり、最後に0になった桁の数字が重複している"
   ]
  },
  {
   "cell_type": "markdown",
   "metadata": {},
   "source": [
    "# ソートされた行列の探索"
   ]
  },
  {
   "cell_type": "code",
   "execution_count": 21,
   "metadata": {},
   "outputs": [
    {
     "ename": "KeyboardInterrupt",
     "evalue": "",
     "output_type": "error",
     "traceback": [
      "\u001b[0;31m---------------------------------------------------------------------------\u001b[0m",
      "\u001b[0;31mKeyboardInterrupt\u001b[0m                         Traceback (most recent call last)",
      "\u001b[0;32m<ipython-input-21-79f5fd6aab63>\u001b[0m in \u001b[0;36m<module>\u001b[0;34m\u001b[0m\n\u001b[1;32m     13\u001b[0m     \u001b[0;32mreturn\u001b[0m \u001b[0;32mNone\u001b[0m\u001b[0;34m\u001b[0m\u001b[0;34m\u001b[0m\u001b[0m\n\u001b[1;32m     14\u001b[0m \u001b[0;34m\u001b[0m\u001b[0m\n\u001b[0;32m---> 15\u001b[0;31m \u001b[0mbinary_search\u001b[0m\u001b[0;34m(\u001b[0m\u001b[0;34m[\u001b[0m\u001b[0;36m2\u001b[0m\u001b[0;34m,\u001b[0m\u001b[0;36m3\u001b[0m\u001b[0;34m,\u001b[0m\u001b[0;36m4\u001b[0m\u001b[0;34m,\u001b[0m\u001b[0;36m5\u001b[0m\u001b[0;34m,\u001b[0m\u001b[0;36m6\u001b[0m\u001b[0;34m,\u001b[0m\u001b[0;36m7\u001b[0m\u001b[0;34m,\u001b[0m\u001b[0;36m8\u001b[0m\u001b[0;34m]\u001b[0m\u001b[0;34m,\u001b[0m \u001b[0;36m9\u001b[0m\u001b[0;34m)\u001b[0m\u001b[0;34m\u001b[0m\u001b[0;34m\u001b[0m\u001b[0m\n\u001b[0m",
      "\u001b[0;32m<ipython-input-21-79f5fd6aab63>\u001b[0m in \u001b[0;36mbinary_search\u001b[0;34m(array, searching_str)\u001b[0m\n\u001b[1;32m      4\u001b[0m     \u001b[0;32mwhile\u001b[0m \u001b[0;32mTrue\u001b[0m\u001b[0;34m:\u001b[0m\u001b[0;34m\u001b[0m\u001b[0;34m\u001b[0m\u001b[0m\n\u001b[1;32m      5\u001b[0m         \u001b[0mmid\u001b[0m \u001b[0;34m=\u001b[0m \u001b[0;34m(\u001b[0m\u001b[0mlow\u001b[0m \u001b[0;34m+\u001b[0m \u001b[0mhigh\u001b[0m\u001b[0;34m)\u001b[0m\u001b[0;34m//\u001b[0m\u001b[0;36m2\u001b[0m\u001b[0;34m\u001b[0m\u001b[0;34m\u001b[0m\u001b[0m\n\u001b[0;32m----> 6\u001b[0;31m         \u001b[0;32mif\u001b[0m \u001b[0marray\u001b[0m\u001b[0;34m[\u001b[0m\u001b[0mmid\u001b[0m\u001b[0;34m]\u001b[0m \u001b[0;34m==\u001b[0m \u001b[0msearching_str\u001b[0m\u001b[0;34m:\u001b[0m\u001b[0;34m\u001b[0m\u001b[0;34m\u001b[0m\u001b[0m\n\u001b[0m\u001b[1;32m      7\u001b[0m             \u001b[0;32mreturn\u001b[0m \u001b[0mmid\u001b[0m\u001b[0;34m\u001b[0m\u001b[0;34m\u001b[0m\u001b[0m\n\u001b[1;32m      8\u001b[0m         \u001b[0;32mif\u001b[0m \u001b[0marray\u001b[0m\u001b[0;34m[\u001b[0m\u001b[0mmid\u001b[0m\u001b[0;34m]\u001b[0m \u001b[0;34m<\u001b[0m \u001b[0msearching_str\u001b[0m\u001b[0;34m:\u001b[0m\u001b[0;34m\u001b[0m\u001b[0;34m\u001b[0m\u001b[0m\n",
      "\u001b[0;31mKeyboardInterrupt\u001b[0m: "
     ]
    }
   ],
   "source": [
    "def binary_search(array, searching_str):\n",
    "    low = 0\n",
    "    high = len(array) - 1\n",
    "    while True:\n",
    "        mid = (low + high)//2\n",
    "        if array[mid] == searching_str:\n",
    "            return mid\n",
    "        if array[mid] < searching_str:\n",
    "            low = mid\n",
    "        else:\n",
    "            high = mid\n",
    "        \n",
    "    return None\n",
    "\n",
    "binary_search([2,3,4,5,6,7,8], 9)"
   ]
  },
  {
   "cell_type": "code",
   "execution_count": 29,
   "metadata": {},
   "outputs": [
    {
     "name": "stdout",
     "output_type": "stream",
     "text": [
      "2\n",
      "high 5 low 0 mid 2\n",
      "high 1 low 0 mid 2\n",
      "high 1 low 1 mid 0\n",
      "[2, 1]\n"
     ]
    }
   ],
   "source": [
    "#　縦横の二分探索、まず縦、その後横\n",
    "\n",
    "double_array = [[2,5,7,8,10],[13,16,18,22,24],[25,28,29,33,34],[35,39,44,54,60],[66,100,122,130,356]]\n",
    "\n",
    "def double_array_search(array, searching_str):\n",
    "    low = 0\n",
    "    high = len(array)\n",
    "    leng = len(array)\n",
    "    while low <= high:\n",
    "        mid = (low + high)//2\n",
    "        if array[mid][0] == searching_str:\n",
    "            return mid\n",
    "        if mid + 1 == leng or mid == 0:\n",
    "            mid_one = mid\n",
    "            break\n",
    "        if array[mid][0] < searching_str:\n",
    "            if searching_str == array[mid+1][0]:\n",
    "                return mid\n",
    "            elif searching_str < array[mid+1][0]:\n",
    "                mid_one = mid\n",
    "                break\n",
    "            else:\n",
    "                low = mid + 1\n",
    "        else:\n",
    "            if searching_str == array[mid - 1][0]:\n",
    "                return mid\n",
    "            elif array[mid - 1][0] < searching_str:\n",
    "                mid_one = mid - 1\n",
    "                break\n",
    "            else:\n",
    "                high = mid - 1\n",
    "    print(mid_one)\n",
    "    low = 0\n",
    "    high = len(array)\n",
    "    while low <= high:\n",
    "        print('high',high,'low',low, 'mid', mid)\n",
    "        mid = (low + high)//2\n",
    "        if array[mid_one][mid] == searching_str:\n",
    "            return [mid_one, mid]\n",
    "        if array[mid_one][mid] < searching_str:\n",
    "            low = mid + 1\n",
    "        else:\n",
    "            high = mid - 1\n",
    "    return None\n",
    "print(double_array_search(double_array, 28))"
   ]
  },
  {
   "cell_type": "markdown",
   "metadata": {},
   "source": [
    "# 整数列のランク"
   ]
  },
  {
   "cell_type": "code",
   "execution_count": 10,
   "metadata": {},
   "outputs": [],
   "source": [
    "class Node:\n",
    "    def __init__(self, key):\n",
    "        self.key = key\n",
    "        self.left = None\n",
    "        self.right = None\n",
    "    def __repr__(self):\n",
    "         if (self.left and self.right):\n",
    "             return f'({self.left}<-{self.val}->{self.right})'\n",
    "         elif self.left:\n",
    "             return f'({self.left}<-{self.val})'\n",
    "         elif self.right:\n",
    "             return f'({self.val}->{self.right})'\n",
    "         else:\n",
    "             return f'({self.val})'\n",
    "class BinarySearchTree:\n",
    "    def __init__(self, key):\n",
    "        self.root = Node(key)\n",
    "    \n",
    "    def search(self, key):\n",
    "        node = self.root\n",
    "        while node:\n",
    "            if node.key == key:\n",
    "                if node.key == key:\n",
    "                    print('Found!')\n",
    "                    return node\n",
    "                elif node.key >key:\n",
    "                    node = node.left\n",
    "                else:\n",
    "                    node = node.right\n",
    "            return None\n",
    "        \n",
    "    def track(self, key):\n",
    "        node = self.root\n",
    "        while node:\n",
    "            parent = node\n",
    "            if node.key >= key:\n",
    "                node = node.left\n",
    "                flag = 'left'\n",
    "            else:\n",
    "                node = node.right\n",
    "                flag = 'right'\n",
    "                \n",
    "        new = Node(key)\n",
    "        if flag == 'left':\n",
    "            parent.left = new\n",
    "        else:\n",
    "            parent.right = new\n",
    "    \n",
    "    def getRankOfNumber(self, key):\n",
    "        def sorting(self, node):            \n",
    "            now_node = node\n",
    "            left = sorting(now_node.left) if now_node.left else []\n",
    "            center = [now_node.value]\n",
    "            right = sorting(key, now_node.right) if now_node.right else []\n",
    "            return left + center + right\n",
    "        \n",
    "        sorted_list = sorting(self.root)\n",
    "        \n",
    "        return sorted_list\n",
    "    \n",
    "import random\n",
    "\n",
    "i = 0\n",
    "big_array = []\n",
    "while i < 100:\n",
    "    big_array.append(random.randint(0, 1000))\n",
    "\n",
    "    i += 1\n",
    "    \n",
    "bst = BinarySearchTree(4)\n",
    "\n",
    "for i in big_array:\n",
    "    bst.track(i)\n",
    "\n",
    "# print(bst.getRankOfNumber(5))\n",
    "        "
   ]
  },
  {
   "cell_type": "code",
   "execution_count": null,
   "metadata": {},
   "outputs": [],
   "source": []
  },
  {
   "cell_type": "markdown",
   "metadata": {},
   "source": [
    "# 山と谷"
   ]
  },
  {
   "cell_type": "code",
   "execution_count": 37,
   "metadata": {},
   "outputs": [
    {
     "data": {
      "text/plain": [
       "[101,\n",
       " 0,\n",
       " 102,\n",
       " 1,\n",
       " 103,\n",
       " 2,\n",
       " 104,\n",
       " 3,\n",
       " 105,\n",
       " 4,\n",
       " 106,\n",
       " 5,\n",
       " 107,\n",
       " 6,\n",
       " 108,\n",
       " 7,\n",
       " 109,\n",
       " 8,\n",
       " 110,\n",
       " 9,\n",
       " 111,\n",
       " 10,\n",
       " 112,\n",
       " 11,\n",
       " 113,\n",
       " 12,\n",
       " 114,\n",
       " 13,\n",
       " 115,\n",
       " 14,\n",
       " 116,\n",
       " 15,\n",
       " 117,\n",
       " 16,\n",
       " 118,\n",
       " 17,\n",
       " 119,\n",
       " 18,\n",
       " 120,\n",
       " 19,\n",
       " 121,\n",
       " 20,\n",
       " 122,\n",
       " 21,\n",
       " 123,\n",
       " 22,\n",
       " 124,\n",
       " 23,\n",
       " 125,\n",
       " 24,\n",
       " 126,\n",
       " 25,\n",
       " 127,\n",
       " 26,\n",
       " 128,\n",
       " 27,\n",
       " 129,\n",
       " 28,\n",
       " 130,\n",
       " 29,\n",
       " 131,\n",
       " 30,\n",
       " 132,\n",
       " 31,\n",
       " 133,\n",
       " 32,\n",
       " 134,\n",
       " 33,\n",
       " 135,\n",
       " 34,\n",
       " 136,\n",
       " 35,\n",
       " 137,\n",
       " 36,\n",
       " 138,\n",
       " 37,\n",
       " 139,\n",
       " 38,\n",
       " 140,\n",
       " 39,\n",
       " 141,\n",
       " 40,\n",
       " 142,\n",
       " 41,\n",
       " 143,\n",
       " 42,\n",
       " 144,\n",
       " 43,\n",
       " 145,\n",
       " 44,\n",
       " 146,\n",
       " 45,\n",
       " 147,\n",
       " 46,\n",
       " 148,\n",
       " 47,\n",
       " 149,\n",
       " 48,\n",
       " 150,\n",
       " 49,\n",
       " 151,\n",
       " 50,\n",
       " 152,\n",
       " 51,\n",
       " 153,\n",
       " 52,\n",
       " 154,\n",
       " 53,\n",
       " 155,\n",
       " 54,\n",
       " 156,\n",
       " 55,\n",
       " 157,\n",
       " 56,\n",
       " 158,\n",
       " 57,\n",
       " 159,\n",
       " 58,\n",
       " 160,\n",
       " 59,\n",
       " 161,\n",
       " 60,\n",
       " 162,\n",
       " 61,\n",
       " 163,\n",
       " 62,\n",
       " 164,\n",
       " 63,\n",
       " 165,\n",
       " 64,\n",
       " 166,\n",
       " 65,\n",
       " 167,\n",
       " 66,\n",
       " 168,\n",
       " 67,\n",
       " 169,\n",
       " 68,\n",
       " 170,\n",
       " 69,\n",
       " 171,\n",
       " 70,\n",
       " 172,\n",
       " 71,\n",
       " 173,\n",
       " 72,\n",
       " 174,\n",
       " 73,\n",
       " 175,\n",
       " 74,\n",
       " 176,\n",
       " 75,\n",
       " 177,\n",
       " 76,\n",
       " 178,\n",
       " 77,\n",
       " 179,\n",
       " 78,\n",
       " 180,\n",
       " 79,\n",
       " 181,\n",
       " 80,\n",
       " 182,\n",
       " 81,\n",
       " 183,\n",
       " 82,\n",
       " 184,\n",
       " 83,\n",
       " 185,\n",
       " 84,\n",
       " 186,\n",
       " 85,\n",
       " 187,\n",
       " 86,\n",
       " 188,\n",
       " 87,\n",
       " 189,\n",
       " 88,\n",
       " 190,\n",
       " 89,\n",
       " 191,\n",
       " 90,\n",
       " 192,\n",
       " 91,\n",
       " 193,\n",
       " 92,\n",
       " 194,\n",
       " 93,\n",
       " 195,\n",
       " 94,\n",
       " 196,\n",
       " 95,\n",
       " 197,\n",
       " 96,\n",
       " 198,\n",
       " 97,\n",
       " 199,\n",
       " 98,\n",
       " 200,\n",
       " 99,\n",
       " 201,\n",
       " 100,\n",
       " 202,\n",
       " 101]"
      ]
     },
     "execution_count": 37,
     "metadata": {},
     "output_type": "execute_result"
    }
   ],
   "source": [
    "# 二つリストを用意して、大きい小さいという交互になるようにリストに入れていき、最終的に交互にリストに入れていく\n",
    "def mountain_and_valley(array):\n",
    "    array = sorted(array)\n",
    "    result = []\n",
    "    mid = len(array) -1 //2\n",
    "    i = 0\n",
    "    while i <= mid:\n",
    "        result.append(mid+i)\n",
    "        result.append(i)\n",
    "        i+=1\n",
    "    return result\n",
    "\n",
    "import random\n",
    "\n",
    "i = 0\n",
    "big_array = []\n",
    "while i <= 100:\n",
    "        big_array.append(random.randint(0, 100))\n",
    "        i += 1\n",
    "mountain_and_valley(big_array)\n",
    "        "
   ]
  },
  {
   "cell_type": "code",
   "execution_count": null,
   "metadata": {},
   "outputs": [],
   "source": []
  }
 ],
 "metadata": {
  "kernelspec": {
   "display_name": "Python 3",
   "language": "python",
   "name": "python3"
  },
  "language_info": {
   "codemirror_mode": {
    "name": "ipython",
    "version": 3
   },
   "file_extension": ".py",
   "mimetype": "text/x-python",
   "name": "python",
   "nbconvert_exporter": "python",
   "pygments_lexer": "ipython3",
   "version": "3.7.4"
  }
 },
 "nbformat": 4,
 "nbformat_minor": 2
}
