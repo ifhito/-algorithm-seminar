{
 "cells": [
  {
   "cell_type": "markdown",
   "metadata": {},
   "source": [
    "## 5.1 挿入"
   ]
  },
  {
   "cell_type": "code",
   "execution_count": 56,
   "metadata": {},
   "outputs": [],
   "source": [
    "def binary(N, M, i, j):\n",
    "    M_copy = M<<i\n",
    "    return bin(N + M_copy)"
   ]
  },
  {
   "cell_type": "code",
   "execution_count": 57,
   "metadata": {},
   "outputs": [
    {
     "data": {
      "text/plain": [
       "'0b110100'"
      ]
     },
     "execution_count": 57,
     "metadata": {},
     "output_type": "execute_result"
    }
   ],
   "source": [
    "binary(0b100000, 0b101, 2, 4)"
   ]
  },
  {
   "cell_type": "markdown",
   "metadata": {},
   "source": [
    "## 5.2 実数の2進数表記"
   ]
  },
  {
   "cell_type": "code",
   "execution_count": 58,
   "metadata": {},
   "outputs": [
    {
     "ename": "SyntaxError",
     "evalue": "invalid syntax (<ipython-input-58-455680ca2399>, line 1)",
     "output_type": "error",
     "traceback": [
      "\u001b[0;36m  File \u001b[0;32m\"<ipython-input-58-455680ca2399>\"\u001b[0;36m, line \u001b[0;32m1\u001b[0m\n\u001b[0;31m    def\u001b[0m\n\u001b[0m        ^\u001b[0m\n\u001b[0;31mSyntaxError\u001b[0m\u001b[0;31m:\u001b[0m invalid syntax\n"
     ]
    }
   ],
   "source": [
    "def "
   ]
  },
  {
   "cell_type": "markdown",
   "metadata": {},
   "source": [
    "## 5.3 ベストの反転位置"
   ]
  },
  {
   "cell_type": "code",
   "execution_count": 7,
   "metadata": {},
   "outputs": [],
   "source": [
    "def returnPlace(binary):\n",
    "    n = 0\n",
    "    count = 0\n",
    "    max_count = 0\n",
    "    flag = False\n",
    "    print(bin(binary))\n",
    "    while True:\n",
    "        flag = False\n",
    "        if len(bin(binary)) <= n:\n",
    "            if max_count < count:\n",
    "                max_count = count\n",
    "            break\n",
    "        if n == 0 or n == 1:\n",
    "            n += 1\n",
    "            continue\n",
    "        if bin(binary)[n] == '0':\n",
    "            if flag == False:\n",
    "                count+=1\n",
    "                flag = True\n",
    "            elif flag == True:\n",
    "                print(count)\n",
    "                max_count =count\n",
    "                count = 1\n",
    "        else:\n",
    "            count += 1\n",
    "        n += 1\n",
    "    return max_count\n",
    "        \n",
    "    "
   ]
  },
  {
   "cell_type": "code",
   "execution_count": 8,
   "metadata": {},
   "outputs": [
    {
     "name": "stdout",
     "output_type": "stream",
     "text": [
      "0b101001\n"
     ]
    },
    {
     "data": {
      "text/plain": [
       "6"
      ]
     },
     "execution_count": 8,
     "metadata": {},
     "output_type": "execute_result"
    }
   ],
   "source": [
    "returnPlace(41)"
   ]
  },
  {
   "cell_type": "markdown",
   "metadata": {},
   "source": [
    "## 5.4 隣の数"
   ]
  },
  {
   "cell_type": "code",
   "execution_count": 259,
   "metadata": {},
   "outputs": [],
   "source": [
    "def nextToNum(binary):\n",
    "    def maxNext(binary):\n",
    "        n = 0\n",
    "        one_num = 0\n",
    "        flag = False\n",
    "        while True:\n",
    "            if len(binary) <= n:\n",
    "                break\n",
    "#             if n == 0 or n == 1:\n",
    "#                 n += 1\n",
    "#                 continue\n",
    "            if flag == False and binary[n+1] == '1':\n",
    "                print(binary[:n], binary[n+1:])\n",
    "                binary = binary[:n]+'1'+binary[n+1:]\n",
    "                binary = binary[:n+1]+'0'+binary[n+2:]\n",
    "                n += 1\n",
    "                flag = True\n",
    "            if flag == True and binary[n] == '1':\n",
    "                binary = binary[:n]+'0'+binary[n+1:]\n",
    "                one_num += 1\n",
    "            if one_num == len(binary) - n:\n",
    "                while True:\n",
    "                    if len(binary) <=n:\n",
    "                        return binary\n",
    "                    binary = binary[:n]+'1'+binary[n+1:]\n",
    "                    n += 1\n",
    "            n += 1\n",
    "        return binary\n",
    "    def minNext(binary):\n",
    "        n = len(binary) -1 \n",
    "        one_num = 0\n",
    "        flag = False\n",
    "        while 0 < n:\n",
    "            print(binary[n])\n",
    "            if flag == False and binary[n-1] == '1':\n",
    "                binary = binary[:n-1]+'0'+binary[n:]\n",
    "                binary = binary[:n]+'1'+binary[n+1:]\n",
    "                n -= 1\n",
    "                flag = True\n",
    "            if flag == True and binary[n] == '1':\n",
    "                binary = binary[:n]+'0'+binary[n+1:]\n",
    "                one_num += 1\n",
    "            if one_num == n:\n",
    "                while True:\n",
    "                    if n <= 0:\n",
    "                        return binary\n",
    "                    binary = binary[:n]+'1'+binary[n+1:]\n",
    "                    n -= 1\n",
    "            n -= 1\n",
    "        return binary\n",
    "#     def minNext(binary):\n",
    "#         n = len(binary)\n",
    "#         count = 0\n",
    "#         max_count = 0\n",
    "#         flag = False\n",
    "#         print(binary)\n",
    "#         while binary[n-1] == 'b':\n",
    "#             print(binary[n+1])\n",
    "#             if binary[n+1] == '1':\n",
    "#                 binary[n] = '1'\n",
    "#                 flag = True\n",
    "#                 n += 1\n",
    "#             elif flag == True and binary[n+1] == '1':\n",
    "#                 binary[n] = '0'\n",
    "#                 return binary\n",
    "#             n -= 1\n",
    "#         return binary\n",
    "    return [maxNext(binary)]"
   ]
  },
  {
   "cell_type": "code",
   "execution_count": 260,
   "metadata": {},
   "outputs": [
    {
     "name": "stdout",
     "output_type": "stream",
     "text": [
      "1 1101\n"
     ]
    },
    {
     "data": {
      "text/plain": [
       "['110000']"
      ]
     },
     "execution_count": 260,
     "metadata": {},
     "output_type": "execute_result"
    }
   ],
   "source": [
    "nextToNum(\"101101\")"
   ]
  },
  {
   "cell_type": "code",
   "execution_count": null,
   "metadata": {},
   "outputs": [],
   "source": []
  },
  {
   "cell_type": "code",
   "execution_count": null,
   "metadata": {},
   "outputs": [],
   "source": []
  }
 ],
 "metadata": {
  "kernelspec": {
   "display_name": "Python 3",
   "language": "python",
   "name": "python3"
  },
  "language_info": {
   "codemirror_mode": {
    "name": "ipython",
    "version": 3
   },
   "file_extension": ".py",
   "mimetype": "text/x-python",
   "name": "python",
   "nbconvert_exporter": "python",
   "pygments_lexer": "ipython3",
   "version": "3.7.4"
  }
 },
 "nbformat": 4,
 "nbformat_minor": 2
}
