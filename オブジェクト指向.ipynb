{
 "cells": [
  {
   "cell_type": "code",
   "execution_count": 7,
   "metadata": {},
   "outputs": [
    {
     "ename": "IndentationError",
     "evalue": "expected an indented block (<ipython-input-7-7bed2b198b61>, line 11)",
     "output_type": "error",
     "traceback": [
      "\u001b[0;36m  File \u001b[0;32m\"<ipython-input-7-7bed2b198b61>\"\u001b[0;36m, line \u001b[0;32m11\u001b[0m\n\u001b[0;31m    class Deck:\u001b[0m\n\u001b[0m               ^\u001b[0m\n\u001b[0;31mIndentationError\u001b[0m\u001b[0;31m:\u001b[0m expected an indented block\n"
     ]
    }
   ],
   "source": [
    "# 7.1\n",
    "class Card:\n",
    "    def __init__(self):\n",
    "        self.serial_num = None #カードの見分けるためのナンバー\n",
    "        self.num = None#体力、トランプナンバー \n",
    "        self.type = None#マジックカード、色\n",
    "        self.discription = None #カードの説明\n",
    "    \n",
    "    def makeCard(self, num, Type, num_sheet):\n",
    "        #カードを枚数文作成する\n",
    "class Deck:\n",
    "    def __init__(self):\n",
    "        self.top = None #デッキのトップカード\n",
    "        self.next = None #デッキのネクストカード\n",
    "        \n",
    "    def makeDeck(self):\n",
    "        #CardクラスのmakeCardを使いカードを作ってリスト化する\n",
    "    \n",
    "    def shuffleDeck(self, deck):\n",
    "        #deckのリスト構造を作り直す\n",
    "    \n",
    "    def getCardTopOfDeck(self):\n",
    "        #deckの一番上のカードを取得してreturnする\n",
    "        \n",
    "    def getCardMiddleOfDeck(self, num):\n",
    "        #deckの中間からカードを取得(構造としてリストなので先頭から辿っていくことになる)\n",
    "    \n",
    "    #複数枚デッキのトップからとる\n",
    "    def getCardSame(self, num):\n",
    "        #deckのトップからカードを複数枚取得する(リスト構造の複数取得と同じでforで回す)"
   ]
  },
  {
   "cell_type": "code",
   "execution_count": 4,
   "metadata": {},
   "outputs": [],
   "source": [
    "# 7.2\n",
    "class WorkMan:\n",
    "    def __init__(self):\n",
    "        self.position = None\n",
    "        self.working = False\n",
    "\n",
    "class CallCenter:\n",
    "    def __init__(self):\n",
    "        self.all_workman_manager = []\n",
    "        self.all_workman_director = []\n",
    "        self.all_workman_Responder = []\n",
    "    def dispatchCall(self):\n",
    "        #まずはResponderのなかにworkmanのworkingがfalseのものがいるかどうか\n",
    "        #次に、director、次にmanagerというように見ていく"
   ]
  },
  {
   "cell_type": "code",
   "execution_count": null,
   "metadata": {},
   "outputs": [],
   "source": [
    "# 7.3\n",
    "\n",
    "class CD:\n",
    "    def __init__(self):\n",
    "        self.title = None\n",
    "        self.music = None#データベースとの紐付け\n",
    "\n",
    "class Jukebox:\n",
    "    def __init__(self):\n",
    "        self.all_CD = []\n",
    "    \n",
    "    def setCD(self, title, music):\n",
    "        #CDクラスのCDをself.all_CDに入れていく\n",
    "    \n",
    "    def playMusic(self, num):#１ー10までの番号にシールが貼られたボタンが存在し、それを客がおす\n",
    "        #all_CDからnumのものを再生する\n",
    "        "
   ]
  },
  {
   "cell_type": "code",
   "execution_count": null,
   "metadata": {},
   "outputs": [],
   "source": [
    "#7.4\n",
    "# class Car:\n",
    "#     def __init__(self):\n",
    "#         self.car_type = None\n",
    "#         self.car_num = None\n",
    "\n",
    "class ParkingLotCell:\n",
    "    def __init__(self):\n",
    "        self.parking_boolen = False\n",
    "        self.parking_num = ''\n",
    "        self.parkingType = None\n",
    "        self.paid = None\n",
    "        num_of_time = None #階数\n",
    "\n",
    "class　ParkingLot:\n",
    "    def __init__(self):\n",
    "        self.paid = [] #場所により複数の料金を想定\n",
    "        self.time_num_parking = []\n",
    "    \n",
    "    #parking_numは[3, 5, 1]のような階数別の駐車場数,parking_payは階数別の料金、parking_typeは階数別のタイプ(普通車、障害者用、大型車など)\n",
    "    def makeParkingLot(self, parking_num, parking_pay, parking_type):\n",
    "        #階数の駐車場分[[<class ParkingLotCell>, <>, ...],[],[]]のようにcellを作っていく(階数別に)\n",
    "    \n",
    "    def giveSpetialType(self, num):\n",
    "        #パーキングの特別なタイプを駐車場ごとに与える\n",
    "    \n",
    "    #numは配列[階数, 番号]\n",
    "    def inTheParking(self, num):\n",
    "        #階数の番号の部分のParkingLotCellクラスのparking_boolenをTrue\n",
    "    \n",
    "    #この部分のnumでは階数のみの指定を行う\n",
    "    def inTheParkingTime(self, num_time):\n",
    "        #階数の番号で一番目から見ていってはじめに空いていた部分にいれる\n",
    "    \n",
    "    def pay(self, num, pay):\n",
    "        #numberの指定、お金が達していたらnumberの階数で数値のところのParkingLotCellをfalse\n",
    "        #return お釣り"
   ]
  },
  {
   "cell_type": "code",
   "execution_count": null,
   "metadata": {},
   "outputs": [],
   "source": [
    "#7.5\n",
    "\n",
    "\n",
    "'''\n",
    "本のダウンロード\n",
    "本を読む\n",
    "本の削除\n",
    "本の検索\n",
    "\n",
    "本の保存はデータベースなどの外部記憶に保存とする\n",
    "'''\n",
    "\n",
    "class Book:\n",
    "    def __init__(self):\n",
    "        self.date = None\n",
    "\n",
    "class User:\n",
    "    def __init__(self):\n",
    "        self.name = None\n",
    "\n",
    "class BookReader:\n",
    "    def __init__(self, user):\n",
    "        self.now_book = None\n",
    "        self.user = user\n",
    "    def DownloadBook(self):\n",
    "        \n",
    "    def DeleteBook(self):\n",
    "        \n",
    "    def SearchBook(self):\n",
    "        \n",
    "    def ReadBook(self):\n",
    "        "
   ]
  },
  {
   "cell_type": "code",
   "execution_count": null,
   "metadata": {},
   "outputs": [],
   "source": [
    "#7.6\n",
    "\n",
    "class Piece:\n",
    "    def __init__(self):\n",
    "        self.top = None\n",
    "        self.right = None\n",
    "        self.left = None\n",
    "        self.bottom = None\n",
    "        \n",
    "class JigsawPuzzle(self):\n",
    "    def __init__(self, N):\n",
    "        self.N = N\n",
    "        \n",
    "        "
   ]
  },
  {
   "cell_type": "code",
   "execution_count": null,
   "metadata": {},
   "outputs": [],
   "source": [
    "#7.7\n",
    "\n",
    "#メッセージ送信\n",
    "#メッセージ受信\n",
    "#メッセージ表示\n",
    "# ユーザ情報\n",
    "# Firebase\n",
    "class Chat:\n",
    "    \n",
    "    def __init__():\n",
    "        \n",
    "    def message_send():\n",
    "        "
   ]
  },
  {
   "cell_type": "code",
   "execution_count": 1,
   "metadata": {},
   "outputs": [],
   "source": [
    "# 7.9"
   ]
  },
  {
   "cell_type": "code",
   "execution_count": 2,
   "metadata": {},
   "outputs": [],
   "source": [
    "#7.11\n",
    "\n",
    "class File:\n",
    "    def __init__(self, date, number):\n",
    "        self.date = None\n",
    "    def read_file(self):\n",
    "        return self.data\n",
    "    \n",
    "    def \n",
    "class Directory:\n",
    "    def __init__(self,):\n",
    "        self.files = []\n",
    "        \n",
    "class Controller:\n",
    "    def __init__():\n",
    "        \n",
    "    def makeDirectory():\n",
    "        \n",
    "    def makeFile():\n",
    "    \n",
    "    def addDirectory()"
   ]
  },
  {
   "cell_type": "code",
   "execution_count": null,
   "metadata": {},
   "outputs": [],
   "source": [
    "#7.12\n",
    "\n",
    "class HashTable:\n",
    "    def __init__(self):\n",
    "        "
   ]
  }
 ],
 "metadata": {
  "kernelspec": {
   "display_name": "Python 3",
   "language": "python",
   "name": "python3"
  },
  "language_info": {
   "codemirror_mode": {
    "name": "ipython",
    "version": 3
   },
   "file_extension": ".py",
   "mimetype": "text/x-python",
   "name": "python",
   "nbconvert_exporter": "python",
   "pygments_lexer": "ipython3",
   "version": "3.7.4"
  }
 },
 "nbformat": 4,
 "nbformat_minor": 2
}
