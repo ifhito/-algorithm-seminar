{
 "cells": [
  {
   "cell_type": "code",
   "execution_count": 1,
   "metadata": {},
   "outputs": [],
   "source": [
    " class TreeNode:\n",
    "        def __init__(self, val, left=None, right=None):\n",
    "            self.val = val\n",
    "            self.left = left\n",
    "            self.right = right\n",
    "        def __repr__(self):\n",
    "            if (self.left and self.right):\n",
    "                return f'({self.left}<-{self.val}->{self.right})'\n",
    "            elif self.left:\n",
    "                return f'({self.left}<-{self.val})'\n",
    "            elif self.right:\n",
    "                return f'({self.val}->{self.right})'\n",
    "            else:\n",
    "                return f'({self.val})'"
   ]
  },
  {
   "cell_type": "code",
   "execution_count": 34,
   "metadata": {},
   "outputs": [],
   "source": [
    "#4.3\n",
    "from collections import deque\n",
    "edges = [[0,1], [0,2], [2,1], [1,3], [3,1], [3,2], [3,4], [4,5]]\n",
    "def makeDeepList(tree_node):\n",
    "#     g ={}\n",
    "#     for i, j in edges:\n",
    "#         if i not in g:\n",
    "#             g[i] = []\n",
    "#         g[i].append(j)\n",
    "#         #g[j].append(i)\n",
    "#     print(g)\n",
    "#     queue = deque([src])\n",
    "#     d = [False] * n\n",
    "#     d[src] = 0\n",
    "    node_list = []\n",
    "    node_val_list = []\n",
    "    node_list.append([tree_node])\n",
    "    node_val_list.append([tree_node.val])\n",
    "    for i in node_list:\n",
    "        deep_list = []\n",
    "        deep_val_list = []\n",
    "        print('i', i)\n",
    "        for j in i:\n",
    "            print('j', j)\n",
    "            if j.left != None:\n",
    "                deep_list.append(j.left)\n",
    "                deep_val_list.append(j.left.val)\n",
    "            if j.right != None:\n",
    "                deep_list.append(j.right)\n",
    "                deep_val_list.append(j.right.val)\n",
    "        if deep_list ==[]:\n",
    "            break\n",
    "        node_list.append(deep_list)\n",
    "        node_val_list.append(deep_val_list)\n",
    "    \n",
    "    return node_val_list\n",
    "\n",
    "class Node:\n",
    "    def __init__(self, val):\n",
    "        self.val = val\n",
    "        self.next = None\n"
   ]
  },
  {
   "cell_type": "code",
   "execution_count": 35,
   "metadata": {},
   "outputs": [],
   "source": [
    "def makeBinarySearchTree(List):\n",
    "    if len(List) <= 1:\n",
    "#         if len(List) == 0:\n",
    "#             return\n",
    "        return TreeNode(List[0]) if len(List) != 0 else None\n",
    "    else:\n",
    "        off = len(List) // 2\n",
    "        med = List[off] + List[-(off + 1)]\n",
    "        num = med // 2\n",
    "        tNode = TreeNode(num)\n",
    "        tNode.left = makeBinarySearchTree(List[:List.index(num)])\n",
    "        tNode.right = makeBinarySearchTree(List[List.index(num)+1:])\n",
    "        return tNode"
   ]
  },
  {
   "cell_type": "code",
   "execution_count": 36,
   "metadata": {},
   "outputs": [
    {
     "name": "stdout",
     "output_type": "stream",
     "text": [
      "i [(((1)<-2->(3))<-4->((5)<-6->(7)))]\n",
      "j (((1)<-2->(3))<-4->((5)<-6->(7)))\n",
      "i [((1)<-2->(3)), ((5)<-6->(7))]\n",
      "j ((1)<-2->(3))\n",
      "j ((5)<-6->(7))\n",
      "i [(1), (3), (5), (7)]\n",
      "j (1)\n",
      "j (3)\n",
      "j (5)\n",
      "j (7)\n",
      "[[4], [2, 6], [1, 3, 5, 7]]\n"
     ]
    }
   ],
   "source": [
    "changeList2 = makeBinarySearchTree([1, 2, 3, 4, 5, 6, 7])\n",
    "print(makeDeepList(changeList2))"
   ]
  },
  {
   "cell_type": "code",
   "execution_count": null,
   "metadata": {},
   "outputs": [],
   "source": [
    "def makeTree(LIST):\n",
    "    if len(List) <= 1:\n",
    "#         if len(List) == 0:\n",
    "#             return\n",
    "        return TreeNode(List[0]) if len(List) != 0 else None\n",
    "    else:\n",
    "        tNode = TreeNode(List.pop)\n",
    "        tNode.left = makeTree(List)\n",
    "        tNode.right = makeTree(List)\n",
    "        return tNode\n",
    "list1 = makeTree([1,2,3,4,5])"
   ]
  },
  {
   "cell_type": "code",
   "execution_count": 90,
   "metadata": {},
   "outputs": [],
   "source": [
    "#4.4\n",
    "def balanceCheck(node_top, num):\n",
    "    \n",
    "    if node_top == None:\n",
    "        return num\n",
    "    balanceCheck(node_top.right)\n",
    "    balanceCheck(node_top.left)\n",
    "    \n",
    "    node_top_copy_right = node_top.right\n",
    "    node_top_copy_left = node_top.left\n",
    "    while node_top_copy_right:\n",
    "        num += 1\n",
    "        node_top_copy = node_top_copy.right\n",
    "    node_top_copy = node_top\n",
    "    while node_top_copy:\n",
    "        num -= 1\n",
    "        node_top_copy = node_top_copy.left\n",
    "    return num <= 1 and num >= 0"
   ]
  },
  {
   "cell_type": "code",
   "execution_count": 91,
   "metadata": {},
   "outputs": [
    {
     "name": "stdout",
     "output_type": "stream",
     "text": [
      "True\n"
     ]
    }
   ],
   "source": [
    "print(balanceCheck(changeList2, 0))"
   ]
  },
  {
   "cell_type": "code",
   "execution_count": 113,
   "metadata": {},
   "outputs": [],
   "source": [
    "#4.5\n",
    "def BSTcheck(treeNode, check_list):\n",
    "    if treeNode == None:\n",
    "        return True\n",
    "    if treeNode.left != None: \n",
    "        if treeNode.val < treeNode.left.val:\n",
    "            return False\n",
    "    if treeNode.right != None:\n",
    "        if treeNode.val > treeNode.right.val:\n",
    "            return False\n",
    "    check_list.append(BSTcheck(treeNode.right, check_list))\n",
    "    check_list.append(BSTcheck(treeNode.left, check_list))\n",
    "    return all(check_list)\n",
    "    "
   ]
  },
  {
   "cell_type": "code",
   "execution_count": 114,
   "metadata": {},
   "outputs": [
    {
     "name": "stdout",
     "output_type": "stream",
     "text": [
      "[]\n",
      "[]\n",
      "[]\n",
      "[True, True, True]\n",
      "[True, True, True, True, True, True, True]\n",
      "[True, True, True, True, True, True, True]\n",
      "[True, True, True, True, True, True, True, True, True, True]\n",
      "True\n"
     ]
    }
   ],
   "source": [
    "print(BSTcheck(changeList2, []))"
   ]
  },
  {
   "cell_type": "code",
   "execution_count": 101,
   "metadata": {},
   "outputs": [],
   "source": [
    "#4.6\n",
    "\n",
    "def nextNodeCheck(tree_node):\n",
    "    if tree_node.right != None:\n",
    "        return tree_node.right\n",
    "    elif tree_node.parent != None:\n",
    "        return tree_node.parent\n",
    "    else:\n",
    "        return None"
   ]
  },
  {
   "cell_type": "code",
   "execution_count": 93,
   "metadata": {},
   "outputs": [
    {
     "data": {
      "text/plain": [
       "((5)<-6->(7))"
      ]
     },
     "execution_count": 93,
     "metadata": {},
     "output_type": "execute_result"
    }
   ],
   "source": [
    "nextNodeCheck(changeList2)"
   ]
  },
  {
   "cell_type": "code",
   "execution_count": 152,
   "metadata": {},
   "outputs": [],
   "source": [
    "#4.7\n",
    "\n",
    "from collections import deque\n",
    "import copy\n",
    "project = ['a', 'b', 'c', 'd', 'e', 'f']\n",
    "edges = [['d','a'], ['b','f'], ['d', 'b'],['a', 'f'], ['c', 'd']]\n",
    "def turnExistCheck(project_relation, project_name):\n",
    "    g ={}\n",
    "    project_turn = copy.copy(project_name) \n",
    "    for i, j in project_relation:\n",
    "        if i not in g:\n",
    "            g[i] = []\n",
    "        if j not in g:\n",
    "            g[j] = []\n",
    "        g[i].append(j)\n",
    "        if i in project_turn:\n",
    "            project_turn.remove(i)\n",
    "        if j in project_turn:\n",
    "            project_turn.remove(j)\n",
    "    print(g)\n",
    "    src = ''\n",
    "    for key in g:\n",
    "        if g[key] == []:\n",
    "            print(key)\n",
    "            src = key\n",
    "    if src == '':\n",
    "        return False\n",
    "    queue = deque(src)\n",
    "    project_stack = []\n",
    "    project_check = copy.copy(project_name)\n",
    "    print(project_name)\n",
    "    if project_turn != []:\n",
    "        for i in project_turn:\n",
    "            project_stack.append(i)\n",
    "            project_check.remove(i)\n",
    "    while queue:\n",
    "        v = queue.popleft()\n",
    "        if v not in project_stack:\n",
    "            project_stack.append(v)\n",
    "            project_check.remove(v)\n",
    "#         if v not in g:\n",
    "#             return False\n",
    "        print(project_stack)\n",
    "        for i in g:\n",
    "            if v in g[i]:\n",
    "                if i not in project_stack:\n",
    "                    project_stack.append(i)\n",
    "                    project_check.remove(i)\n",
    "                    queue.append(i)\n",
    "    if project_check == []:\n",
    "        return project_stack\n",
    "    return False\n",
    "\n"
   ]
  },
  {
   "cell_type": "code",
   "execution_count": 153,
   "metadata": {},
   "outputs": [
    {
     "name": "stdout",
     "output_type": "stream",
     "text": [
      "{'d': ['a', 'b'], 'a': ['f'], 'b': ['f'], 'f': [], 'c': ['d']}\n",
      "f\n",
      "['a', 'b', 'c', 'd', 'e', 'f']\n",
      "['e', 'f']\n",
      "['e', 'f', 'a', 'b']\n",
      "['e', 'f', 'a', 'b', 'd']\n",
      "['e', 'f', 'a', 'b', 'd']\n",
      "['e', 'f', 'a', 'b', 'd', 'c']\n"
     ]
    },
    {
     "data": {
      "text/plain": [
       "['e', 'f', 'a', 'b', 'd', 'c']"
      ]
     },
     "execution_count": 153,
     "metadata": {},
     "output_type": "execute_result"
    }
   ],
   "source": [
    "turnExistCheck(edges, project)"
   ]
  },
  {
   "cell_type": "code",
   "execution_count": null,
   "metadata": {},
   "outputs": [],
   "source": []
  }
 ],
 "metadata": {
  "kernelspec": {
   "display_name": "Python 3",
   "language": "python",
   "name": "python3"
  },
  "language_info": {
   "codemirror_mode": {
    "name": "ipython",
    "version": 3
   },
   "file_extension": ".py",
   "mimetype": "text/x-python",
   "name": "python",
   "nbconvert_exporter": "python",
   "pygments_lexer": "ipython3",
   "version": "3.7.4"
  }
 },
 "nbformat": 4,
 "nbformat_minor": 2
}
