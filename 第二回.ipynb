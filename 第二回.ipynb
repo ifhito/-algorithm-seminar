{
 "cells": [
  {
   "cell_type": "code",
   "execution_count": 10,
   "metadata": {},
   "outputs": [
    {
     "data": {
      "text/plain": [
       "'a2b1c5a3'"
      ]
     },
     "execution_count": 10,
     "metadata": {},
     "output_type": "execute_result"
    }
   ],
   "source": [
    "# 1.6\n",
    "\n",
    "def charCompression(string):\n",
    "    n = 0\n",
    "    answer = ''\n",
    "    while True:\n",
    "        if n >= len(string):\n",
    "            break\n",
    "        s = 0\n",
    "        while True:\n",
    "            if n+s >= len(string):\n",
    "                break\n",
    "            if string[n] == string[n+s]:\n",
    "                s += 1\n",
    "            else:\n",
    "                break\n",
    "        answer += string[n]+str(s)\n",
    "        n +=s\n",
    "    \n",
    "    if len(answer) <= len(string):\n",
    "        return answer\n",
    "    else:\n",
    "        return string\n",
    "\n",
    "charCompression('aabcccccaaa')\n",
    "        "
   ]
  },
  {
   "cell_type": "code",
   "execution_count": 142,
   "metadata": {},
   "outputs": [
    {
     "name": "stdout",
     "output_type": "stream",
     "text": [
      "[[1, 2, 3, 4], [5, 6, 7, 8], [9, 10, 11, 12], [13, 14, 15, 16]]\n",
      "True\n"
     ]
    }
   ],
   "source": [
    "#1.7\n",
    "data = [\n",
    "    ([\n",
    "        [1, 2, 3, 4, 5],\n",
    "        [6, 7, 8, 9, 10],\n",
    "        [11, 12, 13, 14, 15],\n",
    "        [16, 17, 18, 19, 20],\n",
    "        [21, 22, 23, 24, 25]\n",
    "    ], [\n",
    "        [21, 16, 11, 6, 1],\n",
    "        [22, 17, 12, 7, 2],\n",
    "        [23, 18, 13, 8, 3],\n",
    "        [24, 19, 14, 9, 4],\n",
    "        [25, 20, 15, 10, 5]\n",
    "    ])\n",
    "]\n",
    "\n",
    "data1 = [\n",
    "    ([\n",
    "        [1, 2, 3, 4],\n",
    "        [5, 6, 7, 8],\n",
    "        [9, 10, 11, 12],\n",
    "        [13, 14, 15, 16],\n",
    "    ], [\n",
    "        [21, 16, 11, 6, 1],\n",
    "        [22, 17, 12, 7, 2],\n",
    "        [23, 18, 13, 8, 3],\n",
    "        [24, 19, 14, 9, 4],\n",
    "        [25, 20, 15, 10, 5]\n",
    "    ])\n",
    "]\n",
    "def rotate_matrix(matrix):\n",
    "    n = 0\n",
    "    m = 0\n",
    "    length = len(matrix) - 1\n",
    "    while True:\n",
    "        if n >= (length)/2:\n",
    "            break\n",
    "        m = n\n",
    "        while True:\n",
    "            if m >= len(matrix[n]) - 1 -n:\n",
    "                break\n",
    "            copy_str = matrix[n][m]\n",
    "            matrix[n][m] = matrix[length - m][n]\n",
    "            matrix[length - m][n] = matrix[length -n][length - m]\n",
    "            matrix[length -n][length - m] = matrix[m][length - n]\n",
    "            matrix[m][length - n] = copy_str\n",
    "            m += 1\n",
    "        n += 1\n",
    "    return matrix\n",
    "print(rotate_matrix(data[0][0]) == data[0][1])\n",
    "        \n",
    "        "
   ]
  },
  {
   "cell_type": "code",
   "execution_count": 85,
   "metadata": {},
   "outputs": [
    {
     "name": "stdout",
     "output_type": "stream",
     "text": [
      "wat [[0, 0, 0, 0, 0], [0, 0, 0, 0, 0], [11, 12, 13, 14, 15], [0, 0, 0, 0, 0], [21, 22, 23, 24, 25]]\n",
      "True\n"
     ]
    }
   ],
   "source": [
    "# 1.8\n",
    "\n",
    "data = [\n",
    "    ([\n",
    "        [1, 2, 3, 4, 0],\n",
    "        [6, 0, 8, 9, 10],\n",
    "        [11, 12, 13, 14, 15],\n",
    "        [16, 0, 18, 19, 20],\n",
    "        [21, 22, 23, 24, 25]\n",
    "    ], [\n",
    "        [0, 0, 0, 0, 0],\n",
    "        [0, 0, 0, 0, 0],\n",
    "        [11, 0, 13, 14, 0],\n",
    "        [0, 0, 0, 0, 0],\n",
    "        [21, 0, 23, 24, 0]\n",
    "    ])\n",
    "]\n",
    "def changeZero(Input):\n",
    "    list_of_row = []\n",
    "    list_of_calum = []\n",
    "    zero_input = []\n",
    "    n = 0#row\n",
    "    m = 0#calum\n",
    "    while True:\n",
    "        if m >= len(Input):\n",
    "            break\n",
    "        n = 0\n",
    "        while True:\n",
    "            if n >= len(Input[m]):\n",
    "                zero_input.append(Input[m])\n",
    "                break\n",
    "            if Input[m][n] == 0:\n",
    "                zero_input.append([0 for i in range(len(Input[m]))])\n",
    "                list_of_calum.append(n)\n",
    "                list_of_row.append(m)\n",
    "                break\n",
    "                \n",
    "            n += 1\n",
    "        m += 1\n",
    "    m = 0\n",
    "    while True:\n",
    "        if m >= len(Input):\n",
    "            break\n",
    "        if m in list_of_row:\n",
    "            m += 1\n",
    "            continue\n",
    "        n = 0\n",
    "        while True:\n",
    "            if n >= len(list_of_calum):\n",
    "                break\n",
    "            elif zero_input[m][list_of_calum[n]] != 0:\n",
    "                zero_input[m][list_of_calum[n]] = 0\n",
    "            n += 1\n",
    "        m += 1\n",
    "    return zero_input\n",
    "print(changeZero(data[0][0]) == data[0][1])"
   ]
  },
  {
   "cell_type": "code",
   "execution_count": 144,
   "metadata": {},
   "outputs": [
    {
     "name": "stdout",
     "output_type": "stream",
     "text": [
      "True\n",
      "False\n",
      "False\n"
     ]
    }
   ],
   "source": [
    "#1.9\n",
    "data = [\n",
    "    ('watasinonamaeha', 'sinonamaehawata', True),\n",
    "    ('foo', 'bar', False),\n",
    "    ('foo', 'foofoo', False)\n",
    "]\n",
    "def isSubstring(word, subword):\n",
    "        return subword in word\n",
    "    \n",
    "def rotationWord(s1, s2):\n",
    "    if len(s1) != len(s2):\n",
    "        return False\n",
    "    \n",
    "    return isSubstring(s1*2, s2)\n",
    "    \n",
    "for d1, d2, d3 in data:\n",
    "    print(rotationWord(d1, d2))"
   ]
  },
  {
   "cell_type": "code",
   "execution_count": null,
   "metadata": {},
   "outputs": [],
   "source": []
  }
 ],
 "metadata": {
  "kernelspec": {
   "display_name": "Python 3",
   "language": "python",
   "name": "python3"
  },
  "language_info": {
   "codemirror_mode": {
    "name": "ipython",
    "version": 3
   },
   "file_extension": ".py",
   "mimetype": "text/x-python",
   "name": "python",
   "nbconvert_exporter": "python",
   "pygments_lexer": "ipython3",
   "version": "3.7.4"
  }
 },
 "nbformat": 4,
 "nbformat_minor": 2
}
