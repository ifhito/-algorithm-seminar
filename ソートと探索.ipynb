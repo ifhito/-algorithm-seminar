{
 "cells": [
  {
   "cell_type": "markdown",
   "metadata": {},
   "source": [
    "# ソートされた配列のマージ"
   ]
  },
  {
   "cell_type": "code",
   "execution_count": 6,
   "metadata": {},
   "outputs": [
    {
     "data": {
      "text/plain": [
       "[1, 2, 3, 5, 7, 8, 12, 43, 45]"
      ]
     },
     "execution_count": 6,
     "metadata": {},
     "output_type": "execute_result"
    }
   ],
   "source": [
    "def margeList(listA, listB):\n",
    "    i = 0\n",
    "    j = 0\n",
    "    B = listB.pop(j)\n",
    "    while i < len(listA):\n",
    "        if listA[i] >= B:\n",
    "            listA.insert(i, B)\n",
    "            B = listB.pop(j)\n",
    "            i += 1\n",
    "            continue\n",
    "        i+=1\n",
    "    listA += listB\n",
    "    \n",
    "    return listA\n",
    "\n",
    "margeList([1,3,5,7,12,45], [2,8,43,56])\n",
    "    \n",
    "        "
   ]
  },
  {
   "cell_type": "markdown",
   "metadata": {},
   "source": [
    "# アナグラムのグループ"
   ]
  },
  {
   "cell_type": "code",
   "execution_count": 87,
   "metadata": {},
   "outputs": [],
   "source": [
    "import collections\n",
    "def anagram(str_list):\n",
    "    counter_list = {}\n",
    "    separate_list = []\n",
    "    count = 0\n",
    "    for i in str_list:\n",
    "        c = collections.Counter(i)\n",
    "        c_common = c.most_common()\n",
    "        c = sorted(c_common, key=lambda pair: pair[0], reverse=True)\n",
    "        if str(c) in counter_list:\n",
    "            separate_list[counter_list[str(c)]].append(i)\n",
    "        else:\n",
    "            counter_list[str(c)] = count\n",
    "            separate_list.append([i])\n",
    "            count += 1\n",
    "    return sum(separate_list, [])"
   ]
  },
  {
   "cell_type": "code",
   "execution_count": 88,
   "metadata": {},
   "outputs": [
    {
     "data": {
      "text/plain": [
       "['ara',\n",
       " 'raa',\n",
       " 'rrrl',\n",
       " 'lrrr',\n",
       " 'ccced',\n",
       " 'ccdce',\n",
       " 'flffe',\n",
       " 'fffle',\n",
       " 'eee',\n",
       " 'eee',\n",
       " 'tec']"
      ]
     },
     "execution_count": 88,
     "metadata": {},
     "output_type": "execute_result"
    }
   ],
   "source": [
    "anagram(['ara','rrrl','ccced','flffe','lrrr','fffle','raa','ccdce','eee','tec','eee'])"
   ]
  },
  {
   "cell_type": "markdown",
   "metadata": {},
   "source": [
    "# 回転された配列を見つける"
   ]
  },
  {
   "cell_type": "code",
   "execution_count": 16,
   "metadata": {},
   "outputs": [
    {
     "name": "stdout",
     "output_type": "stream",
     "text": [
      "1 15 14\n"
     ]
    },
    {
     "data": {
      "text/plain": [
       "8"
      ]
     },
     "execution_count": 16,
     "metadata": {},
     "output_type": "execute_result"
    }
   ],
   "source": [
    "def roution(array, serching_num):\n",
    "    low = 0\n",
    "    high = len(array) - 1\n",
    "    \n",
    "    while low <= high:\n",
    "        mid = (low + high)//2\n",
    "        guess_mid = array[mid]\n",
    "        guess_low = array[low]\n",
    "        guess_high = array[high]\n",
    "        if guess_mid == serching_num:\n",
    "            return mid\n",
    "        if guess_low == serching_num:\n",
    "            return low\n",
    "        if guess_high == serching_num:\n",
    "            return high\n",
    "        print(guess_mid, guess_low, guess_high)\n",
    "        if guess_mid < serching_num and guess_low < serching_num:\n",
    "            if guess_high < serching_num:\n",
    "                high = mid - 1\n",
    "            else:\n",
    "                low = mid + 1\n",
    "        elif guess_mid > serching_num and guess_high > serching_num:\n",
    "            if guess_low < serching_num:\n",
    "                low = mid +1\n",
    "            else:\n",
    "                high = mid - 1\n",
    "        elif guess_low > serching_num:\n",
    "            low = mid +1\n",
    "        elif guess_high < serching_num:\n",
    "            high = mid - 1\n",
    "        \n",
    "    return None\n",
    "\n",
    "roution([15,16,19,20,25,1,3,4,5,7,10,14], 5)"
   ]
  },
  {
   "cell_type": "markdown",
   "metadata": {},
   "source": [
    "# ソート済み・サイズが不明の配列における探索"
   ]
  },
  {
   "cell_type": "code",
   "execution_count": 20,
   "metadata": {},
   "outputs": [],
   "source": [
    "\n",
    "def bigSortedList(array,serch_item):\n",
    "    i = 2 \n",
    "    while True:\n",
    "        e = 2 **i\n",
    "        if array[e] == None:\n",
    "            length = e\n",
    "            break\n",
    "        i += 1\n",
    "    \n",
    "    low = 0\n",
    "    high = len(array) - 1\n",
    "    while low <= high:\n",
    "        mid = (low + high)//2\n",
    "        guess = array[mid]\n",
    "        if guess == serch_item:\n",
    "            return mid\n",
    "        if guess > serch_item:\n",
    "            high = mid - 1\n",
    "        else:\n",
    "            low = mid + 1\n",
    "    return None\n",
    "\n",
    "\n",
    "    "
   ]
  },
  {
   "cell_type": "code",
   "execution_count": 22,
   "metadata": {},
   "outputs": [
    {
     "ename": "IndexError",
     "evalue": "list index out of range",
     "output_type": "error",
     "traceback": [
      "\u001b[0;31m---------------------------------------------------------------------------\u001b[0m",
      "\u001b[0;31mIndexError\u001b[0m                                Traceback (most recent call last)",
      "\u001b[0;32m<ipython-input-22-6bf59ac2c457>\u001b[0m in \u001b[0;36m<module>\u001b[0;34m\u001b[0m\n\u001b[1;32m      7\u001b[0m     \u001b[0mi\u001b[0m \u001b[0;34m+=\u001b[0m \u001b[0;36m1\u001b[0m\u001b[0;34m\u001b[0m\u001b[0;34m\u001b[0m\u001b[0m\n\u001b[1;32m      8\u001b[0m \u001b[0;34m\u001b[0m\u001b[0m\n\u001b[0;32m----> 9\u001b[0;31m \u001b[0mbigSortedList\u001b[0m\u001b[0;34m(\u001b[0m\u001b[0msorted\u001b[0m\u001b[0;34m(\u001b[0m\u001b[0mbig_array\u001b[0m\u001b[0;34m)\u001b[0m\u001b[0;34m,\u001b[0m \u001b[0;36m5\u001b[0m\u001b[0;34m)\u001b[0m\u001b[0;34m\u001b[0m\u001b[0;34m\u001b[0m\u001b[0m\n\u001b[0m",
      "\u001b[0;32m<ipython-input-20-04f4e17b2c4f>\u001b[0m in \u001b[0;36mbigSortedList\u001b[0;34m(array, serch_item)\u001b[0m\n\u001b[1;32m      3\u001b[0m     \u001b[0;32mwhile\u001b[0m \u001b[0;32mTrue\u001b[0m\u001b[0;34m:\u001b[0m\u001b[0;34m\u001b[0m\u001b[0;34m\u001b[0m\u001b[0m\n\u001b[1;32m      4\u001b[0m         \u001b[0me\u001b[0m \u001b[0;34m=\u001b[0m \u001b[0;36m2\u001b[0m \u001b[0;34m**\u001b[0m\u001b[0mi\u001b[0m\u001b[0;34m\u001b[0m\u001b[0;34m\u001b[0m\u001b[0m\n\u001b[0;32m----> 5\u001b[0;31m         \u001b[0;32mif\u001b[0m \u001b[0marray\u001b[0m\u001b[0;34m[\u001b[0m\u001b[0me\u001b[0m\u001b[0;34m]\u001b[0m \u001b[0;34m==\u001b[0m \u001b[0;32mNone\u001b[0m\u001b[0;34m:\u001b[0m\u001b[0;34m\u001b[0m\u001b[0;34m\u001b[0m\u001b[0m\n\u001b[0m\u001b[1;32m      6\u001b[0m             \u001b[0mlength\u001b[0m \u001b[0;34m=\u001b[0m \u001b[0me\u001b[0m\u001b[0;34m\u001b[0m\u001b[0;34m\u001b[0m\u001b[0m\n\u001b[1;32m      7\u001b[0m             \u001b[0;32mbreak\u001b[0m\u001b[0;34m\u001b[0m\u001b[0;34m\u001b[0m\u001b[0m\n",
      "\u001b[0;31mIndexError\u001b[0m: list index out of range"
     ]
    }
   ],
   "source": [
    "import random\n",
    "\n",
    "i = 0\n",
    "big_array = []\n",
    "while i < 1024:\n",
    "    if i < 1000:\n",
    "        big_array.append(random.randint(0, 1000))\n",
    "\n",
    "    i += 1\n",
    "\n",
    "bigSortedList(sorted(big_array), 5)"
   ]
  },
  {
   "cell_type": "markdown",
   "metadata": {},
   "source": [
    "# 隙間が多い配列の探索"
   ]
  },
  {
   "cell_type": "code",
   "execution_count": 105,
   "metadata": {},
   "outputs": [
    {
     "data": {
      "text/plain": [
       "2"
      ]
     },
     "execution_count": 105,
     "metadata": {},
     "output_type": "execute_result"
    }
   ],
   "source": [
    "\n",
    "    \n",
    "def ClearTeethList(array, serching_str):\n",
    "    low = 0\n",
    "    high = len(array) - 1\n",
    "    \n",
    "    while low <= high:\n",
    "        mid = (low + high)//2\n",
    "        guess = array[mid]    \n",
    "        if guess == '':\n",
    "            i = 1\n",
    "            while True:\n",
    "                mid_high = mid + 1\n",
    "                mid_low = mid - 1\n",
    "                if array[mid_low] != '':\n",
    "                    if array[mid_low] > serching_str:\n",
    "                        high = mid_low - 1\n",
    "                        break\n",
    "                    else:\n",
    "                        low = mid_high\n",
    "                        break\n",
    "                elif array[mid_high] != '':\n",
    "                    if array[mid_high] > serching_str:\n",
    "                        high = mid_low\n",
    "                        break\n",
    "                    else:\n",
    "                        low = mid_high + 1\n",
    "                        break\n",
    "                elif array[mid_low] == serching_str:\n",
    "                    return mid_low\n",
    "                elif array[mid_high] == serching_str:\n",
    "                    return mid_high\n",
    "                i += 1\n",
    "            continue\n",
    "        if guess == serching_str:\n",
    "            return mid\n",
    "        if guess > serching_str:\n",
    "            high = mid - 1\n",
    "        else:\n",
    "            low = mid + 1\n",
    "    return None\n",
    "\n",
    "ClearTeethList(['at','','ball','','','','','car','','','dad','',''], 'ball')\n",
    "            "
   ]
  },
  {
   "cell_type": "code",
   "execution_count": null,
   "metadata": {},
   "outputs": [],
   "source": []
  },
  {
   "cell_type": "code",
   "execution_count": null,
   "metadata": {},
   "outputs": [],
   "source": []
  }
 ],
 "metadata": {
  "kernelspec": {
   "display_name": "Python 3",
   "language": "python",
   "name": "python3"
  },
  "language_info": {
   "codemirror_mode": {
    "name": "ipython",
    "version": 3
   },
   "file_extension": ".py",
   "mimetype": "text/x-python",
   "name": "python",
   "nbconvert_exporter": "python",
   "pygments_lexer": "ipython3",
   "version": "3.7.4"
  }
 },
 "nbformat": 4,
 "nbformat_minor": 2
}
