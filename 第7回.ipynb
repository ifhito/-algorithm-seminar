{
 "cells": [
  {
   "cell_type": "code",
   "execution_count": 1,
   "metadata": {},
   "outputs": [
    {
     "name": "stdout",
     "output_type": "stream",
     "text": [
      "Current BFS path: 0\n",
      "Current BFS path: 0->1\n",
      "Current BFS path: 0->2\n",
      "Current BFS path: 0->3\n",
      "Current BFS path: 0->1->4\n",
      "Current BFS path: 0->1->5\n",
      "Shortest path found by BFS: 0->1->5 \n",
      "\n",
      "Current UCS path: 0  weight: 0\n",
      "Current UCS path: 0->1  weight: 2\n",
      "Current UCS path: 0->2  weight: 3\n",
      "Current UCS path: 0->1->4  weight: 4\n",
      "Current UCS path: 0->3  weight: 4\n",
      "Current UCS path: 0->2->5  weight: 4\n",
      "Shortest path found by UCS: 0->2->5\n"
     ]
    }
   ],
   "source": [
    "#有効グラフ\n",
    "\n",
    "class Node(object):\n",
    "    def __init__(self, name):\n",
    "        self.name = name\n",
    "\n",
    "    def getName(self):\n",
    "        return self.name\n",
    "\n",
    "    def __str__(self):\n",
    "        return self.name\n",
    "\n",
    "    def __lt__(self, i):\n",
    "        return None\n",
    "\n",
    "\n",
    "class WeightedEdge(object):\n",
    "    \"\"\"重み付きの枝を表すクラス\"\"\"\n",
    "\n",
    "    def __init__(self, src, dest, weight):\n",
    "        self.src = src\n",
    "        self.dest = dest\n",
    "        self.weight = weight\n",
    "\n",
    "    def getSource(self):\n",
    "        return self.src\n",
    "\n",
    "    def getDestination(self):\n",
    "        return self.dest\n",
    "\n",
    "    def getWeight(self):\n",
    "        return self.weight\n",
    "\n",
    "    def __str__(self):\n",
    "        return self.src.getName() + '->(' + str(self.weight) + ')' + self.dest.getName()\n",
    "\n",
    "\n",
    "class Digraph(object):\n",
    "    \"\"\"有向グラフを表すクラス\"\"\"\n",
    "\n",
    "    def __init__(self):\n",
    "        self.nodes = []\n",
    "        self.edges = {}\n",
    "\n",
    "    def addNode(self, node):\n",
    "        if node in self.nodes:\n",
    "            raise ValueError('Duplicate node')\n",
    "        else:\n",
    "            self.nodes.append(node)\n",
    "            self.edges[node] = []\n",
    "\n",
    "    def addEdge(self, edge):\n",
    "        src = edge.getSource()\n",
    "        dest = edge.getDestination()\n",
    "        weight = edge.getWeight()\n",
    "        if not (src in self.nodes and dest in self.nodes):\n",
    "            raise ValueError('Node not a graph')\n",
    "\n",
    "        self.edges[src].append((weight, dest))\n",
    "\n",
    "    def childrenOf(self, node):\n",
    "        return self.edges[node]\n",
    "\n",
    "    def __str__(self):\n",
    "        result = ''\n",
    "        for src in self.nodes:\n",
    "            for dest in self.edges[src]:\n",
    "                result = result + src.getName() + '->' + dest.getName() + '\\n'\n",
    "        return result[:-1]\n",
    "\n",
    "\n",
    "def printPath(path):\n",
    "    \"\"\"パスを表示するメソッド\"\"\"\n",
    "    result = ''\n",
    "    for i in range(len(path)):\n",
    "        result = result + str(path[i])\n",
    "        if i != len(path) - 1:\n",
    "            result = result + '->'\n",
    "    return result\n",
    "\n",
    "\n",
    "def UCS(graph, start, end):\n",
    "    \"\"\"重み付き有向グラフを探索するメソッド\"\"\"\n",
    "\n",
    "    initPath = [start]\n",
    "    pathQueue = []\n",
    "\n",
    "    from heapq import heappush, heappop\n",
    "    heappush(pathQueue, (0, initPath))\n",
    "\n",
    "    while len(pathQueue) != 0:\n",
    "        (weight, tmpPath) = heappop(pathQueue)\n",
    "\n",
    "        print('Current UCS path:', printPath(tmpPath), ' weight:', weight)\n",
    "        lastNode = tmpPath[-1]\n",
    "\n",
    "        if lastNode == end:\n",
    "            return tmpPath\n",
    "        for (next_weight, nextNode) in graph.childrenOf(lastNode):\n",
    "            if nextNode not in tmpPath:\n",
    "                newPath = tmpPath + [nextNode]\n",
    "                heappush(pathQueue, (weight + next_weight, newPath))\n",
    "\n",
    "\n",
    "def BFS(graph, start, end):\n",
    "    \"\"\"幅優先探索を行うメソッド\"\"\"\n",
    "\n",
    "    initPath = [start]\n",
    "    pathQueue = [initPath]\n",
    "    while len(pathQueue) != 0:\n",
    "        tmpPath = pathQueue.pop(0)\n",
    "        print('Current BFS path:', printPath(tmpPath))\n",
    "        lastNode = tmpPath[-1]\n",
    "        if lastNode == end:\n",
    "            return tmpPath\n",
    "        for (weight, nextNode) in graph.childrenOf(lastNode):\n",
    "            if nextNode not in tmpPath:\n",
    "                newPath = tmpPath + [nextNode]\n",
    "                pathQueue.append(newPath)\n",
    "\n",
    "def testSP():\n",
    "    \"\"\"テストメソッド\"\"\"\n",
    "\n",
    "    nodes = []\n",
    "    for name in range(9):\n",
    "        nodes.append(Node(str(name)))\n",
    "    g = Digraph()\n",
    "    for n in nodes:\n",
    "        g.addNode(n)\n",
    "    g.addEdge(WeightedEdge(nodes[0], nodes[1], 2))\n",
    "    g.addEdge(WeightedEdge(nodes[0], nodes[2], 3))\n",
    "    g.addEdge(WeightedEdge(nodes[0], nodes[3], 4))\n",
    "    g.addEdge(WeightedEdge(nodes[1], nodes[4], 2))\n",
    "    g.addEdge(WeightedEdge(nodes[1], nodes[5], 4))\n",
    "    g.addEdge(WeightedEdge(nodes[2], nodes[5], 1))\n",
    "    g.addEdge(WeightedEdge(nodes[2], nodes[6], 2))\n",
    "    g.addEdge(WeightedEdge(nodes[2], nodes[7], 3))\n",
    "    g.addEdge(WeightedEdge(nodes[3], nodes[8], 6))\n",
    "\n",
    "    sp = BFS(g, nodes[0], nodes[5])\n",
    "    print('Shortest path found by BFS:', printPath(sp), '\\n')\n",
    "\n",
    "    sp = UCS(g, nodes[0], nodes[5])\n",
    "    print('Shortest path found by UCS:', printPath(sp))\n",
    "testSP()"
   ]
  },
  {
   "cell_type": "code",
   "execution_count": 2,
   "metadata": {},
   "outputs": [
    {
     "name": "stdout",
     "output_type": "stream",
     "text": [
      "[1, 2]\n"
     ]
    }
   ],
   "source": [
    "#4.1\n"
   ]
  },
  {
   "cell_type": "code",
   "execution_count": 97,
   "metadata": {},
   "outputs": [],
   "source": [
    "#4.2\n",
    "class Node:\n",
    "    def __init__(self, data): #コンストラクタ\n",
    "        self.data = data #ノードがもつ数値\n",
    "        self.left = None #左エッジ\n",
    "        self.right = None #右エッジ\n",
    "class BST:\n",
    "    def __init__(self, number_list): #コンストラクタ\n",
    "        self.root = None #ルート初期化\n",
    "        for node in number_list: #数値を持つ配列から二分木を生成\n",
    "            self.insert(node) #挿入メソッドを使ってノードを挿入する\n",
    "    def insert(self, data):\n",
    "        n = self.root\n",
    "        if n == None:\n",
    "            self.root = Node(data)\n",
    "            return\n",
    "        else:\n",
    "            while True:\n",
    "                entry = n.data\n",
    "                if data < entry:\n",
    "                    if n.left is None:\n",
    "                        n.left = Node(data)\n",
    "                        return\n",
    "                    n = n.left\n",
    "                elif data > entry:\n",
    "                    if n.right is None:\n",
    "                        n.right = Node(data)\n",
    "                        return\n",
    "                    n = n.right\n",
    "                else:\n",
    "                    n.data = data\n",
    "                    return\n",
    "    def allShow(self):\n",
    "        obj = self.root\n",
    "        while obj:\n",
    "            print(obj.data, obj.left.data, obj.right.data)\n",
    "            obj = obj.left\n",
    "\n",
    "def makeBinarySearchTree(List):\n",
    "    if len(List) <= 1:\n",
    "        return List\n",
    "    else:\n",
    "        off = len(List) // 2\n",
    "        med = List[off] + List[-(off + 1)]\n",
    "        num = int(med / 2)\n",
    "        new_list_first = List[:List.index(num)]\n",
    "        new_list_second = List[List.index(num)+1:]\n",
    "        print(num, new_list_first, new_list_second)\n",
    "        left = makeBinarySearchTree(new_list_first)\n",
    "        right = makeBinarySearchTree(new_list_second)\n",
    "        print(num, left, right)\n",
    "        return [num] + left + right"
   ]
  },
  {
   "cell_type": "code",
   "execution_count": 52,
   "metadata": {},
   "outputs": [],
   "source": [
    " class TreeNode:\n",
    "        def __init__(self, val, left=None, right=None):\n",
    "            self.val = val\n",
    "            self.left = left\n",
    "            self.right = right\n",
    "        def __repr__(self):\n",
    "            if (self.left and self.right):\n",
    "                return f'({self.left}<-{self.val}->{self.right})'\n",
    "            elif self.left:\n",
    "                return f'({self.left}<-{self.val})'\n",
    "            elif self.right:\n",
    "                return f'({self.val}->{self.right})'\n",
    "            else:\n",
    "                return f'({self.val})'"
   ]
  },
  {
   "cell_type": "code",
   "execution_count": 96,
   "metadata": {},
   "outputs": [],
   "source": [
    "def makeBinarySearchTree(List):\n",
    "    if len(List) <= 1:\n",
    "#         if len(List) == 0:\n",
    "#             return\n",
    "        return None if len(List) == 0 else List[0]\n",
    "    else:\n",
    "        off = len(List) // 2\n",
    "        med = List[off] + List[-(off + 1)]\n",
    "        num = med // 2\n",
    "        tNode = TreeNode(num)\n",
    "        tNode.left = makeBinarySearchTree(List[:List.index(num)])\n",
    "        tNode.right = makeBinarySearchTree(List[List.index(num)+1:])\n",
    "        return tNode\n",
    "#         tNode(num, makeBinarySearchTree(List[:List.index(num)]), makeBinarySearchTree(List[List.index(num)+1:]))\n",
    "#         new_list_first = List[:List.index(num)]\n",
    "#         new_list_second = List[List.index(num)+1:]\n",
    "#         print(num, new_list_first, new_list_second)\n",
    "#         left = makeBinarySearchTree(new_list_first)\n",
    "#         right = makeBinarySearchTree(new_list_second)\n",
    "#         print(num, left, right)\n",
    "#         return [num] + left + right"
   ]
  },
  {
   "cell_type": "code",
   "execution_count": 97,
   "metadata": {},
   "outputs": [],
   "source": [
    "def makeBinarySearchTree(List):\n",
    "    if len(List) <= 1:\n",
    "#         if len(List) == 0:\n",
    "#             return\n",
    "        return List[0] if len(List) != 0 else None\n",
    "    else:\n",
    "        off = len(List) // 2\n",
    "        med = List[off] + List[-(off + 1)]\n",
    "        num = med // 2\n",
    "        tNode = TreeNode(num)\n",
    "        tNode.left = makeBinarySearchTree(List[:List.index(num)])\n",
    "        tNode.right = makeBinarySearchTree(List[List.index(num)+1:])\n",
    "        return tNode"
   ]
  },
  {
   "cell_type": "code",
   "execution_count": 91,
   "metadata": {},
   "outputs": [],
   "source": [
    "def make_bst(l:list)->TreeNode:\n",
    "    if not l:\n",
    "        return None\n",
    "    mid = len(l)//2\n",
    "    center = TreeNode(l[mid], left=make_bst(l[:mid]), right=make_bst(l[mid+1:]))\n",
    "    return center"
   ]
  },
  {
   "cell_type": "code",
   "execution_count": 94,
   "metadata": {},
   "outputs": [
    {
     "name": "stdout",
     "output_type": "stream",
     "text": [
      "(((1)<-2->(3))<-4->((5)<-6->(7)))\n",
      "((1<-2->3)<-4->(5<-6->7))\n"
     ]
    }
   ],
   "source": [
    "changeList = make_bst([1, 2, 3, 4, 5, 6, 7])\n",
    "changeList2 = makeBinarySearchTree([1, 2, 3, 4, 5, 6, 7])\n",
    "print(changeList)\n",
    "print(changeList2)"
   ]
  },
  {
   "cell_type": "code",
   "execution_count": 99,
   "metadata": {},
   "outputs": [
    {
     "name": "stdout",
     "output_type": "stream",
     "text": [
      "4 2 6\n",
      "2 1 3\n"
     ]
    },
    {
     "ename": "AttributeError",
     "evalue": "'NoneType' object has no attribute 'data'",
     "output_type": "error",
     "traceback": [
      "\u001b[0;31m---------------------------------------------------------------------------\u001b[0m",
      "\u001b[0;31mAttributeError\u001b[0m                            Traceback (most recent call last)",
      "\u001b[0;32m<ipython-input-99-1183cb837f0f>\u001b[0m in \u001b[0;36m<module>\u001b[0;34m\u001b[0m\n\u001b[0;32m----> 1\u001b[0;31m \u001b[0mbst\u001b[0m\u001b[0;34m.\u001b[0m\u001b[0mallShow\u001b[0m\u001b[0;34m(\u001b[0m\u001b[0;34m)\u001b[0m\u001b[0;34m\u001b[0m\u001b[0;34m\u001b[0m\u001b[0m\n\u001b[0m\u001b[1;32m      2\u001b[0m \u001b[0mprint\u001b[0m\u001b[0;34m(\u001b[0m\u001b[0mlen\u001b[0m\u001b[0;34m(\u001b[0m\u001b[0;34m[\u001b[0m\u001b[0;36m1\u001b[0m\u001b[0;34m,\u001b[0m \u001b[0;36m2\u001b[0m\u001b[0;34m,\u001b[0m \u001b[0;36m3\u001b[0m\u001b[0;34m,\u001b[0m \u001b[0;36m4\u001b[0m\u001b[0;34m,\u001b[0m \u001b[0;36m5\u001b[0m\u001b[0;34m,\u001b[0m \u001b[0;36m6\u001b[0m\u001b[0;34m,\u001b[0m \u001b[0;36m7\u001b[0m\u001b[0;34m]\u001b[0m\u001b[0;34m)\u001b[0m\u001b[0;34m//\u001b[0m\u001b[0;36m2\u001b[0m\u001b[0;34m)\u001b[0m\u001b[0;34m\u001b[0m\u001b[0;34m\u001b[0m\u001b[0m\n\u001b[1;32m      3\u001b[0m \u001b[0mprint\u001b[0m\u001b[0;34m(\u001b[0m\u001b[0mint\u001b[0m\u001b[0;34m(\u001b[0m\u001b[0mlen\u001b[0m\u001b[0;34m(\u001b[0m\u001b[0;34m[\u001b[0m\u001b[0;36m1\u001b[0m\u001b[0;34m,\u001b[0m \u001b[0;36m2\u001b[0m\u001b[0;34m,\u001b[0m \u001b[0;36m3\u001b[0m\u001b[0;34m,\u001b[0m \u001b[0;36m4\u001b[0m\u001b[0;34m,\u001b[0m \u001b[0;36m5\u001b[0m\u001b[0;34m,\u001b[0m \u001b[0;36m6\u001b[0m\u001b[0;34m,\u001b[0m \u001b[0;36m7\u001b[0m\u001b[0;34m]\u001b[0m\u001b[0;34m)\u001b[0m\u001b[0;34m/\u001b[0m\u001b[0;36m2\u001b[0m\u001b[0;34m)\u001b[0m\u001b[0;34m)\u001b[0m\u001b[0;34m\u001b[0m\u001b[0;34m\u001b[0m\u001b[0m\n",
      "\u001b[0;32m<ipython-input-97-5a30faf9202e>\u001b[0m in \u001b[0;36mallShow\u001b[0;34m(self)\u001b[0m\n\u001b[1;32m     34\u001b[0m         \u001b[0mobj\u001b[0m \u001b[0;34m=\u001b[0m \u001b[0mself\u001b[0m\u001b[0;34m.\u001b[0m\u001b[0mroot\u001b[0m\u001b[0;34m\u001b[0m\u001b[0;34m\u001b[0m\u001b[0m\n\u001b[1;32m     35\u001b[0m         \u001b[0;32mwhile\u001b[0m \u001b[0mobj\u001b[0m\u001b[0;34m:\u001b[0m\u001b[0;34m\u001b[0m\u001b[0;34m\u001b[0m\u001b[0m\n\u001b[0;32m---> 36\u001b[0;31m             \u001b[0mprint\u001b[0m\u001b[0;34m(\u001b[0m\u001b[0mobj\u001b[0m\u001b[0;34m.\u001b[0m\u001b[0mdata\u001b[0m\u001b[0;34m,\u001b[0m \u001b[0mobj\u001b[0m\u001b[0;34m.\u001b[0m\u001b[0mleft\u001b[0m\u001b[0;34m.\u001b[0m\u001b[0mdata\u001b[0m\u001b[0;34m,\u001b[0m \u001b[0mobj\u001b[0m\u001b[0;34m.\u001b[0m\u001b[0mright\u001b[0m\u001b[0;34m.\u001b[0m\u001b[0mdata\u001b[0m\u001b[0;34m)\u001b[0m\u001b[0;34m\u001b[0m\u001b[0;34m\u001b[0m\u001b[0m\n\u001b[0m\u001b[1;32m     37\u001b[0m             \u001b[0mobj\u001b[0m \u001b[0;34m=\u001b[0m \u001b[0mobj\u001b[0m\u001b[0;34m.\u001b[0m\u001b[0mleft\u001b[0m\u001b[0;34m\u001b[0m\u001b[0;34m\u001b[0m\u001b[0m\n\u001b[1;32m     38\u001b[0m \u001b[0;34m\u001b[0m\u001b[0m\n",
      "\u001b[0;31mAttributeError\u001b[0m: 'NoneType' object has no attribute 'data'"
     ]
    }
   ],
   "source": [
    "bst.allShow()\n",
    "print(len([1, 2, 3, 4, 5, 6, 7])//2)\n",
    "print(int(len([1, 2, 3, 4, 5, 6, 7])/2))"
   ]
  },
  {
   "cell_type": "code",
   "execution_count": 66,
   "metadata": {},
   "outputs": [],
   "source": [
    "#4.1\n",
    "from collections import deque\n",
    "edges = [[0,1], [0,2], [2,1], [1,3], [3,1], [3,2], [3,4], [4,5]]\n",
    "def BFS(edges, src, dst):\n",
    "    g ={}\n",
    "    for i, j in edges:\n",
    "        if i not in g:\n",
    "            g[i] = []\n",
    "        g[i].append(j)\n",
    "        #g[j].append(i)\n",
    "    print(g)\n",
    "    queue = deque([src])\n",
    "    d = [False] * n\n",
    "    d[src] = 0\n",
    "    while queue:\n",
    "        v = queue.popleft()\n",
    "        if v not in g:\n",
    "            return False\n",
    "        for i in g[v]:\n",
    "            if d[i] is False:\n",
    "                d[i] = True\n",
    "                queue.append(i)\n",
    "            print(i)\n",
    "            if i == dst:\n",
    "                return True\n",
    "    return False\n",
    "                "
   ]
  },
  {
   "cell_type": "code",
   "execution_count": 67,
   "metadata": {},
   "outputs": [
    {
     "name": "stdout",
     "output_type": "stream",
     "text": [
      "{0: [1, 2], 2: [1], 1: [3], 3: [1, 2, 4], 4: [5]}\n",
      "5\n"
     ]
    },
    {
     "data": {
      "text/plain": [
       "False"
      ]
     },
     "execution_count": 67,
     "metadata": {},
     "output_type": "execute_result"
    }
   ],
   "source": [
    "searchRoute(edges, 4, 1)"
   ]
  },
  {
   "cell_type": "code",
   "execution_count": 46,
   "metadata": {},
   "outputs": [],
   "source": [
    "#4.1　DFS\n",
    "from collections import deque\n",
    "edges = [[0,1], [0,2], [2,1], [1,3], [3,1], [3,2], [3,4], [4,5]]\n",
    "def DFS(edges, src, dst):\n",
    "    g ={}\n",
    "    for i, j in edges:\n",
    "        if i not in g:\n",
    "            g[i] = deque([])\n",
    "        g[i].append(j)\n",
    "    print(g)\n",
    "    stack = [src]\n",
    "    while stack:\n",
    "        v = stack[-1]\n",
    "        if v not in g:\n",
    "            return False\n",
    "        if g[v]:\n",
    "            w = g[v].popleft()\n",
    "            if dst == w:\n",
    "                return True\n",
    "            stack.append(w)\n",
    "        else:\n",
    "            stack.pop()\n",
    "    return False"
   ]
  },
  {
   "cell_type": "code",
   "execution_count": 50,
   "metadata": {},
   "outputs": [
    {
     "name": "stdout",
     "output_type": "stream",
     "text": [
      "{0: deque([1, 2]), 2: deque([1]), 1: deque([3]), 3: deque([1, 2, 4]), 4: deque([5])}\n"
     ]
    },
    {
     "data": {
      "text/plain": [
       "False"
      ]
     },
     "execution_count": 50,
     "metadata": {},
     "output_type": "execute_result"
    }
   ],
   "source": [
    "DFS(edges, 4, 1)"
   ]
  },
  {
   "cell_type": "code",
   "execution_count": 7,
   "metadata": {},
   "outputs": [
    {
     "name": "stdout",
     "output_type": "stream",
     "text": [
      "11 9\n",
      "0 1\n",
      "0 2\n",
      "1 3\n",
      "1 4\n",
      "2 5\n",
      "2 6\n",
      "3 7\n",
      "5 8\n",
      "8 9\n"
     ]
    }
   ],
   "source": [
    "n, m = [int(x) for x in input().split()] # nは頂点の数、mは辺の数\n",
    "g = [[] for _ in range(n)] # 隣接リスト\n",
    "\n",
    "for _ in range(m):\n",
    "    a, b = [int(x) for x in input().split()]\n",
    "    g[a].append(b)\n",
    "    g[b].append(a)"
   ]
  },
  {
   "cell_type": "code",
   "execution_count": 8,
   "metadata": {},
   "outputs": [
    {
     "name": "stdout",
     "output_type": "stream",
     "text": [
      "[[1, 2], [0, 3, 4], [0, 5, 6], [1, 7], [1], [2, 8], [2], [3], [5, 9], [8], []]\n"
     ]
    }
   ],
   "source": [
    "print(g)"
   ]
  },
  {
   "cell_type": "code",
   "execution_count": null,
   "metadata": {},
   "outputs": [],
   "source": []
  }
 ],
 "metadata": {
  "kernelspec": {
   "display_name": "Python 3",
   "language": "python",
   "name": "python3"
  },
  "language_info": {
   "codemirror_mode": {
    "name": "ipython",
    "version": 3
   },
   "file_extension": ".py",
   "mimetype": "text/x-python",
   "name": "python",
   "nbconvert_exporter": "python",
   "pygments_lexer": "ipython3",
   "version": "3.7.4"
  }
 },
 "nbformat": 4,
 "nbformat_minor": 2
}
